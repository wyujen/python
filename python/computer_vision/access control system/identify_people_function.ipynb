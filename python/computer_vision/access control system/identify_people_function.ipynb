{
 "cells": [
  {
   "cell_type": "code",
   "execution_count": 5,
   "metadata": {},
   "outputs": [],
   "source": [
    "import cv2\n",
    "import numpy as np\n",
    "import time\n",
    "import cvlib as cv\n",
    "from cvlib.object_detection import draw_bbox\n",
    "import matplotlib.pyplot as plt\n",
    "import threading"
   ]
  },
  {
   "cell_type": "code",
   "execution_count": 16,
   "metadata": {},
   "outputs": [],
   "source": [
    "def live_cam(capture):\n",
    "    \n",
    "    while(True):\n",
    "        ret,frame = capture.read()\n",
    "        frame = cv2.flip(frame,1)\n",
    "        cv2.imshow(\"video\",frame)\n",
    "        c = cv2.waitKey(50)\n",
    "        if(c==27):\n",
    "            cv2.destroyAllWindows()\n",
    "            capture.release() \n",
    "            break\n",
    "        \n"
   ]
  },
  {
   "cell_type": "code",
   "execution_count": 17,
   "metadata": {},
   "outputs": [],
   "source": [
    "def get_identify_photo(capture):\n",
    "    success, img = capture.read()\n",
    "    _, camphoto = cv2.imencode('.jpg', img)\n",
    "\n",
    "    camphoto = cv2.imdecode(camphoto, cv2.IMREAD_UNCHANGED)\n",
    "    plt.imshow(camphoto[:,:,::-1])\n",
    "    \n",
    "    bbox ,labels ,conf = cv.detect_common_objects(camphoto)\n",
    "    im2 = draw_bbox(camphoto,bbox,labels,conf)\n",
    "    plt.imshow(im2[:,:,::-1])\n"
   ]
  },
  {
   "cell_type": "code",
   "execution_count": 18,
   "metadata": {},
   "outputs": [],
   "source": [
    "def run_function():\n",
    "    i = 0\n",
    "    capture = cv2.VideoCapture(0)\n",
    "    while True :\n",
    "        im2 = live_cam(capture)\n",
    "        c = cv2.waitKey(50)\n",
    "        if(c==27):\n",
    "            cv2.destroyAllWindows()\n",
    "            capture.release() \n",
    "            break\n",
    "        while i < 287452000 :\n",
    "            i = 0\n",
    "            get_identify_photo(capture)\n",
    "        \n"
   ]
  },
  {
   "cell_type": "code",
   "execution_count": 19,
   "metadata": {},
   "outputs": [
    {
     "ename": "error",
     "evalue": "OpenCV(4.6.0) C:\\b\\abs_d8ltn27ay8\\croot\\opencv-suite_1676452046667\\work\\modules\\imgcodecs\\src\\loadsave.cpp:976: error: (-215:Assertion failed) !image.empty() in function 'cv::imencode'\n",
     "output_type": "error",
     "traceback": [
      "\u001b[1;31m---------------------------------------------------------------------------\u001b[0m",
      "\u001b[1;31merror\u001b[0m                                     Traceback (most recent call last)",
      "Cell \u001b[1;32mIn[19], line 1\u001b[0m\n\u001b[1;32m----> 1\u001b[0m run_function()\n",
      "Cell \u001b[1;32mIn[18], line 13\u001b[0m, in \u001b[0;36mrun_function\u001b[1;34m()\u001b[0m\n\u001b[0;32m     11\u001b[0m \u001b[39mwhile\u001b[39;00m i \u001b[39m<\u001b[39m \u001b[39m287452000\u001b[39m :\n\u001b[0;32m     12\u001b[0m     i \u001b[39m=\u001b[39m \u001b[39m0\u001b[39m\n\u001b[1;32m---> 13\u001b[0m     get_identify_photo(capture)\n",
      "Cell \u001b[1;32mIn[17], line 3\u001b[0m, in \u001b[0;36mget_identify_photo\u001b[1;34m(capture)\u001b[0m\n\u001b[0;32m      1\u001b[0m \u001b[39mdef\u001b[39;00m \u001b[39mget_identify_photo\u001b[39m(capture):\n\u001b[0;32m      2\u001b[0m     success, img \u001b[39m=\u001b[39m capture\u001b[39m.\u001b[39mread()\n\u001b[1;32m----> 3\u001b[0m     _, camphoto \u001b[39m=\u001b[39m cv2\u001b[39m.\u001b[39;49mimencode(\u001b[39m'\u001b[39;49m\u001b[39m.jpg\u001b[39;49m\u001b[39m'\u001b[39;49m, img)\n\u001b[0;32m      5\u001b[0m     camphoto \u001b[39m=\u001b[39m cv2\u001b[39m.\u001b[39mimdecode(camphoto, cv2\u001b[39m.\u001b[39mIMREAD_UNCHANGED)\n\u001b[0;32m      6\u001b[0m     plt\u001b[39m.\u001b[39mimshow(camphoto[:,:,::\u001b[39m-\u001b[39m\u001b[39m1\u001b[39m])\n",
      "\u001b[1;31merror\u001b[0m: OpenCV(4.6.0) C:\\b\\abs_d8ltn27ay8\\croot\\opencv-suite_1676452046667\\work\\modules\\imgcodecs\\src\\loadsave.cpp:976: error: (-215:Assertion failed) !image.empty() in function 'cv::imencode'\n"
     ]
    }
   ],
   "source": [
    "run_function()"
   ]
  },
  {
   "cell_type": "code",
   "execution_count": null,
   "metadata": {},
   "outputs": [],
   "source": []
  }
 ],
 "metadata": {
  "kernelspec": {
   "display_name": "yolo",
   "language": "python",
   "name": "python3"
  },
  "language_info": {
   "codemirror_mode": {
    "name": "ipython",
    "version": 3
   },
   "file_extension": ".py",
   "mimetype": "text/x-python",
   "name": "python",
   "nbconvert_exporter": "python",
   "pygments_lexer": "ipython3",
   "version": "3.9.13"
  },
  "orig_nbformat": 4
 },
 "nbformat": 4,
 "nbformat_minor": 2
}
