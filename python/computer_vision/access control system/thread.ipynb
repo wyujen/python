{
 "cells": [
  {
   "cell_type": "code",
   "execution_count": null,
   "metadata": {},
   "outputs": [],
   "source": [
    "import threading\n",
    "import time\n",
    "import sys\n",
    "import cv2\n"
   ]
  },
  {
   "cell_type": "code",
   "execution_count": 1,
   "metadata": {},
   "outputs": [
    {
     "ename": "SyntaxError",
     "evalue": "invalid syntax (333377556.py, line 1)",
     "output_type": "error",
     "traceback": [
      "\u001b[1;36m  Cell \u001b[1;32mIn[1], line 1\u001b[1;36m\u001b[0m\n\u001b[1;33m    frame = [[[255 251 209]\u001b[0m\n\u001b[1;37m                   ^\u001b[0m\n\u001b[1;31mSyntaxError\u001b[0m\u001b[1;31m:\u001b[0m invalid syntax\n"
     ]
    }
   ],
   "source": []
  },
  {
   "cell_type": "code",
   "execution_count": null,
   "metadata": {},
   "outputs": [],
   "source": [
    "c = 0\n",
    "frame = \n",
    "\n",
    "\n",
    "is_running = True\n",
    "capture = cv2.VideoCapture(0)\n",
    "def a():\n",
    "    global c, is_running ,frame\n",
    "    while is_running:\n",
    "        ret,frame = capture.read()\n",
    "        frame = cv2.flip(frame,1)\n",
    "        cv2.imshow(\"video\",frame)\n",
    "        c = cv2.waitKey(50)\n",
    "\n",
    "        #i += 1\n",
    "        \n",
    "\n",
    "def b():\n",
    "    global c, is_running ,frame\n",
    "    while is_running:\n",
    "        #i = 0\n",
    "        _, camphoto = cv2.imencode('.jpg', frame)\n",
    "        camphoto = cv2.imdecode(camphoto, cv2.IMREAD_UNCHANGED)\n",
    "        #plt.imshow(camphoto[:,:,::-1])\n",
    "        #plt.show()\n",
    "        bbox ,labels ,conf = cv.detect_common_objects(camphoto)\n",
    "        im2 = draw_bbox(camphoto,bbox,labels,conf)\n",
    "        plt.imshow(im2[:,:,::-1])\n",
    "        plt.show()\n",
    "        #print(i)\n",
    "        time.sleep(15)\n",
    "\n",
    "def main():\n",
    "    global c, is_running ,frame\n",
    "\n",
    "    thread1 = threading.Thread(target=a)\n",
    "    thread2 = threading.Thread(target=b)\n",
    "    thread1.start()\n",
    "    thread2.start()\n",
    "\n",
    "    while is_running:\n",
    "        try:\n",
    "            if c ==27 :\n",
    "                cv2.destroyAllWindows()\n",
    "                capture.release() \n",
    "                is_running = False\n",
    "        except KeyboardInterrupt:\n",
    "            is_running = False\n",
    "\n",
    "if __name__ == \"__main__\":\n",
    "    main()"
   ]
  },
  {
   "cell_type": "code",
   "execution_count": null,
   "metadata": {},
   "outputs": [],
   "source": []
  }
 ],
 "metadata": {
  "kernelspec": {
   "display_name": "yolo",
   "language": "python",
   "name": "python3"
  },
  "language_info": {
   "codemirror_mode": {
    "name": "ipython",
    "version": 3
   },
   "file_extension": ".py",
   "mimetype": "text/x-python",
   "name": "python",
   "nbconvert_exporter": "python",
   "pygments_lexer": "ipython3",
   "version": "3.9.13"
  },
  "orig_nbformat": 4
 },
 "nbformat": 4,
 "nbformat_minor": 2
}
