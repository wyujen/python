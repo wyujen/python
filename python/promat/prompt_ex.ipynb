{
 "cells": [
  {
   "attachments": {},
   "cell_type": "markdown",
   "metadata": {},
   "source": [
    "We want \n",
    "\n",
    "將客戶評論轉換成\n",
    "\n",
    "客服部：客戶追蹤\n",
    "\n",
    "設計部：產品改善\n"
   ]
  },
  {
   "cell_type": "code",
   "execution_count": 53,
   "metadata": {},
   "outputs": [],
   "source": [
    "import openai\n",
    "from langchain.output_parsers import *\n",
    "import os\n",
    "openai.api_key = os.getenv('OPENAI_API_KEY')"
   ]
  },
  {
   "cell_type": "code",
   "execution_count": 54,
   "metadata": {},
   "outputs": [],
   "source": [
    "def get_completion(prompt, model=\"gpt-3.5-turbo\"):\n",
    "    messages = [{\"role\" : \"user\", \"content\" : prompt}]\n",
    "    response = openai.ChatCompletion.create(\n",
    "        model=model,\n",
    "        messages=messages,\n",
    "        temperature=0,\n",
    "    )\n",
    "    return response.choices[0].message[\"content\"]"
   ]
  },
  {
   "attachments": {},
   "cell_type": "markdown",
   "metadata": {},
   "source": [
    "We have \n",
    "\n",
    "客戶針對商品的評論及客戶編號"
   ]
  },
  {
   "cell_type": "code",
   "execution_count": 3,
   "metadata": {},
   "outputs": [],
   "source": [
    "lamp_review = [\n",
    "\"\"\"\n",
    "ID:01\n",
    "非常感謝賣家的環保杯，這款環保杯真的讓我印象深刻！質感非常好，設計獨特，而且攜帶方便。然而，我發現杯蓋的密封性能稍微有些問題，有時候會漏水。希望賣家能夠改進這個部分，讓更多人能夠無憂使用這款環保杯。\\\n",
    "\"\"\",\n",
    "\"\"\"\n",
    "ID:02\n",
    "這款環保杯的顏色和圖案真的很吸引人，我喜歡它的環保理念。不過，我在使用過程中發現杯身容易刮花，這讓我有些失望。建議賣家可以嘗試使用更耐磨的材質來提高產品的耐用性。\\\n",
    "\"\"\",\n",
    "\"\"\"\n",
    "ID:03\n",
    "賣家的環保杯不僅環保，而且保溫效果也非常好，使我能夠隨時享受熱飲。但是，我注意到杯子底部的防滑墊圈容易脫落，這對使用者來說是一個潛在的安全隱患。希望賣家能對這個部分進行改進，確保顧客的安全。\\\n",
    "\"\"\",\n",
    "\"\"\"\n",
    "ID:04\n",
    "我很喜歡這款環保杯的設計和材質，賣家的包裝也非常精美，環保杯質量很好，而且價格合理。我對賣家的快速發貨和親切態度表示讚賞。\\\n",
    "\"\"\",\n",
    "\"\"\"\n",
    "ID:05\n",
    "我非常喜歡這款環保杯的款式和顏色。然而，在使用過程中，我發現杯蓋的密封性能不佳，有時會造成漏水的情況。希望賣家能夠改善這個問題，以提供更好的使用體驗。\\\n",
    "\"\"\",\n",
    "\"\"\"\n",
    "ID:06\n",
    "賣家的環保杯設計時尚，環保理念讓我感到欣慰。但我注意到，杯子底部的防滑墊圈容易脫落，這讓使用時感到不夠穩定。建議賣家改善這個部分，以增加產品的穩定性。\\\n",
    "\"\"\",\n",
    "\"\"\"\n",
    "ID:07\n",
    "我很滿意這款環保杯的保溫效果和外觀設計。不過，在使用過程中，我發現手柄部分較為薄弱，容易出現斷裂情況。希望賣家能夠在未來的版本中加強手柄的結構，提高其耐用性。\\\n",
    "\"\"\",\n",
    "\"\"\"\n",
    "ID:08\n",
    "這款環保杯的質感和設計都讓我印象深刻。然而，我在使用時發現杯身容易刮花，影響了產品的美觀。希望賣家能夠采用更耐磨的材料，以提高產品的抗磨損性能。\\\n",
    "\"\"\",\n",
    "\"\"\"\n",
    "ID:09\n",
    "我對賣家的環保杯整體感覺良好\\\n",
    "\"\"\",\n",
    "\"\"\"\n",
    "ID:10\n",
    "這款環保杯真的讓我非常失望！杯蓋的密封性能簡直糟糕透了，導致我多次外出時滿包包都是水。賣家應該要改進這個問題，否則無法保證消費者的基本使用需求！\\\n",
    "\"\"\",\n",
    "\"\"\"\n",
    "ID:11\n",
    "我對這款環保杯的手柄質量非常不滿意，用了沒幾天就斷裂了，這讓我感到非常生氣。賣家應該要提高產品的耐用性，別再讓顧客購買到這種劣質產品！\\\n",
    "\"\"\",\n",
    "\"\"\"\n",
    "ID:12\n",
    "這款環保杯的抗刮損能力太差了！剛用了幾次就出現了明顯的刮痕，這讓我覺得我花錢買了一個次品。賣家應該要使用更耐磨的材質，提供消費者更高品質的產品。\\\n",
    "\"\"\"\n",
    "]"
   ]
  },
  {
   "attachments": {},
   "cell_type": "markdown",
   "metadata": {},
   "source": [
    "Step 1 \n",
    "\n",
    "直接詢問LLM，但 LLM 不具有 user 的資訊，所以 LLM 無法回答 user 的問題  "
   ]
  },
  {
   "cell_type": "code",
   "execution_count": 4,
   "metadata": {},
   "outputs": [],
   "source": [
    "prompt = f\"\"\"\n",
    "\n",
    "我的產品如何?\n",
    "\n",
    "\"\"\"\n",
    "response = get_completion(prompt)"
   ]
  },
  {
   "cell_type": "code",
   "execution_count": 5,
   "metadata": {},
   "outputs": [
    {
     "name": "stdout",
     "output_type": "stream",
     "text": [
      "很抱歉，我不知道您的產品是什麼，無法回答這個問題。請提供更多的資訊，讓我能夠幫助您。\n"
     ]
    }
   ],
   "source": [
    "print(response)"
   ]
  },
  {
   "attachments": {},
   "cell_type": "markdown",
   "metadata": {},
   "source": [
    "Step 2\n",
    "\n",
    "提供客戶評論，詢問問題，但問題不夠具體"
   ]
  },
  {
   "cell_type": "code",
   "execution_count": 6,
   "metadata": {},
   "outputs": [],
   "source": [
    "prompt = f\"\"\"\n",
    "\n",
    "我的產品如何?\n",
    "\n",
    "{lamp_review}\n",
    "\"\"\"\n",
    "response = get_completion(prompt)"
   ]
  },
  {
   "cell_type": "code",
   "execution_count": 7,
   "metadata": {},
   "outputs": [
    {
     "name": "stdout",
     "output_type": "stream",
     "text": [
      "根據以上顧客的評論，產品的設計和環保理念受到了顧客的高度評價。然而，一些顧客提到了產品的一些問題，如杯蓋的密封性能、杯身容易刮花、防滑墊圈容易脫落、手柄較為薄弱等。這些問題影響了產品的使用體驗和耐用性，需要賣家進行改進。建議賣家采用更耐磨的材料、加強產品的結構和密封性能，確保產品的品質和使用體驗，滿足消費者的需求。\n"
     ]
    }
   ],
   "source": [
    "print(response)"
   ]
  },
  {
   "attachments": {},
   "cell_type": "markdown",
   "metadata": {},
   "source": [
    "Step 3\n",
    "\n",
    "提供更好的 prompt 催眠 LLM　寫出更具體的內容"
   ]
  },
  {
   "cell_type": "code",
   "execution_count": 63,
   "metadata": {},
   "outputs": [],
   "source": [
    "prompt = f\"\"\"\n",
    "\n",
    "你是一個評論分析師，跟據評論的內容製作總結報告，內容包含：評論中客戶的心情及產品的缺陷，文字內容盡量簡單概要\n",
    "\n",
    "{lamp_review}\n",
    "\"\"\"\n",
    "response = get_completion(prompt)"
   ]
  },
  {
   "cell_type": "code",
   "execution_count": 64,
   "metadata": {},
   "outputs": [
    {
     "name": "stdout",
     "output_type": "stream",
     "text": [
      "總結報告：\n",
      "\n",
      "- 客戶對環保杯的質感、設計和環保理念表示讚賞。\n",
      "- 杯蓋的密封性能、杯身的耐刮損能力、杯底的防滑墊圈和手柄的耐用性是客戶反映的主要缺陷。\n",
      "- 賣家應該改進產品的缺陷，提高產品的品質和使用體驗，以滿足消費者的需求。\n"
     ]
    }
   ],
   "source": [
    "print(response)"
   ]
  },
  {
   "attachments": {},
   "cell_type": "markdown",
   "metadata": {},
   "source": [
    "Step 4\n",
    "\n",
    "用條列示指導 LLM 逐步思考，輸出指定內容，同時使用英文 prompt "
   ]
  },
  {
   "cell_type": "code",
   "execution_count": 65,
   "metadata": {},
   "outputs": [],
   "source": [
    "prompt = f\"\"\"\n",
    "\n",
    "\n",
    "-Please read through these comments one by one.\\\n",
    "-You are an evaluation analyst who will categorize each comment into customer sentiment and product defects.\\\n",
    "-Please help me summarize the customer sentiment and product defects into two reports.\\\n",
    "-The first report will be about the customer sentiment in the comments, which will be provided as a reference for the customer service department. The content should not include any information about product defects, and should focus only on statistical analysis of customer sentiment.\\\n",
    "-The second report will be about the product defects in the comments, which will be provided to the product design department for product improvement.\\\n",
    "-Each report should be 200 words long.\\\n",
    "-使用繁體中文製作報告內容\\\n",
    "\n",
    "Customer review：'''{lamp_review}'''\n",
    "\"\"\"\n",
    "response = get_completion(prompt)"
   ]
  },
  {
   "cell_type": "code",
   "execution_count": 66,
   "metadata": {},
   "outputs": [
    {
     "name": "stdout",
     "output_type": "stream",
     "text": [
      "報告一：顧客情感分析報告\n",
      "\n",
      "本次顧客評論中，共有12條評論，其中9條評論對賣家的環保杯給予了正面評價，對產品的質感、設計、環保理念、價格、快速發貨和親切態度等方面表示讚賞。然而，仍有3條評論對產品提出了一些問題，主要集中在杯蓋的密封性能、杯身的刮花和杯底的防滑墊圈等方面。其中，有2條評論對手柄的耐用性提出了建議。\n",
      "\n",
      "綜合分析，本次顧客評論中，大部分顧客對賣家的環保杯給予了正面評價，對產品的質量和服務態度表示滿意。但仍有一些顧客對產品的某些方面提出了改進建議，賣家應該重視這些問題，進行改進，提高產品的品質和顧客滿意度。\n",
      "\n",
      "報告二：產品缺陷分析報告\n",
      "\n",
      "本次顧客評論中，共有3條評論提到了產品的缺陷問題。其中，有2條評論提到了杯蓋的密封性能不佳，有時會漏水，這對使用者來說是一個潛在的安全隱患；另外，有1條評論提到了杯身容易刮花，影響了產品的美觀。此外，還有2條評論提到了手柄的耐用性不足，容易斷裂。\n",
      "\n",
      "綜合分析，本次顧客評論中，產品的缺陷主要集中在杯蓋的密封性能、杯身的刮花和手柄的耐用性等方面。賣家應該重視這些問題，進行改進，提高產品的品質和顧客滿意度。建議賣家可以嘗試使用更耐磨的材質來提高產品的耐用性，改進杯蓋的密封性能，確保顧客的安全。\n"
     ]
    }
   ],
   "source": [
    "print(response)"
   ]
  },
  {
   "attachments": {},
   "cell_type": "markdown",
   "metadata": {},
   "source": [
    "Step 5\n",
    "\n",
    "考量客戶評論的內容，無最大值上限，但 token 有上限\n",
    "\n",
    "所以需做專業分工，分類內容，結構化輸出，以利後續系統操作"
   ]
  },
  {
   "cell_type": "code",
   "execution_count": 56,
   "metadata": {},
   "outputs": [],
   "source": [
    "prompt = f\"\"\"\n",
    "\n",
    "After reviewing each comment, summarize the following items before moving on to the next comment.\n",
    "    -revirwer reviewID \"ID\"\n",
    "    -revirwer Customer's emotion \"customer mood\"\n",
    "    -revirwer Product flaws \"design\"\n",
    "\n",
    "    \n",
    "    Each review format your response as a JSON object with \\\n",
    "    \"ID\" and \"customer mood\" and \"design\" as the key.\\\n",
    "    Each review is stored as an array in different positions.\\\n",
    "    If the information isn't present ,use \"unknown\"as the value \\\n",
    "    make your response as 10 word as possible\n",
    "\n",
    "\n",
    "    \n",
    "reviews texts :'''{lamp_review}'''\n",
    "\"\"\"\n",
    "response = get_completion(prompt)"
   ]
  },
  {
   "cell_type": "code",
   "execution_count": 57,
   "metadata": {},
   "outputs": [
    {
     "name": "stdout",
     "output_type": "stream",
     "text": [
      "1. {\"ID\": \"01\", \"customer mood\": \"impressed\", \"design\": \"leakage issue with lid seal\"}\n",
      "2. {\"ID\": \"02\", \"customer mood\": \"disappointed\", \"design\": \"easily scratched body\"}\n",
      "3. {\"ID\": \"03\", \"customer mood\": \"satisfied\", \"design\": \"slippery bottom pad\"}\n",
      "4. {\"ID\": \"04\", \"customer mood\": \"appreciative\", \"design\": \"good quality and reasonable price\"}\n",
      "5. {\"ID\": \"05\", \"customer mood\": \"disappointed\", \"design\": \"poor lid seal performance\"}\n",
      "6. {\"ID\": \"06\", \"customer mood\": \"pleased\", \"design\": \"unstable bottom pad\"}\n",
      "7. {\"ID\": \"07\", \"customer mood\": \"satisfied\", \"design\": \"weak handle structure\"}\n",
      "8. {\"ID\": \"08\", \"customer mood\": \"impressed\", \"design\": \"easily scratched body\"}\n",
      "9. {\"ID\": \"09\", \"customer mood\": \"positive\", \"design\": \"unknown\"}\n",
      "10. {\"ID\": \"10\", \"customer mood\": \"very disappointed\", \"design\": \"terrible lid seal performance\"}\n",
      "11. {\"ID\": \"11\", \"customer mood\": \"very dissatisfied\", \"design\": \"weak handle quality\"}\n",
      "12. {\"ID\": \"12\", \"customer mood\": \"unhappy\", \"design\": \"poor scratch resistance\"}\n"
     ]
    }
   ],
   "source": [
    "print(response)"
   ]
  },
  {
   "attachments": {},
   "cell_type": "markdown",
   "metadata": {},
   "source": [
    "Step 5-1 加入格式 example 使輸出更符合期待"
   ]
  },
  {
   "cell_type": "code",
   "execution_count": 42,
   "metadata": {},
   "outputs": [],
   "source": [
    "prompt = f\"\"\"\n",
    "\n",
    "After reviewing each comment, summarize the following items before moving on to the next comment.\n",
    "   -revirwer reviewID \"ID\"\n",
    "   -revirwer Customer's emotion \"customer mood\"\n",
    "   -revirwer Product flaws \"design\"\n",
    "\n",
    "   Each review format your response as a JSON object with \\\n",
    "   \"ID\" and \"customer mood\" and \"design\" as the key.\\\n",
    "   Each review is stored as an array in different positions.\\\n",
    "   If the information isn't present ,use \"unknown\" as the value \\\n",
    "   make your response as 10 word as possible\n",
    "\n",
    "   example：'''review: 1. ID:01\n",
    "                        非常感謝賣家的環保杯，這款環保杯真的讓我印象深刻！質感非常好，設計獨特，而且攜帶方便。然而，我發現杯蓋的密封性能稍微有些問題，有時候會漏水。希望賣家能夠改進這個部分，讓更多人能夠無憂使用這款環保杯。\n",
    "                        2. ID:02\n",
    "                        這款環保杯的顏色和圖案真的很吸引人，我喜歡它的環保理念。不過，我在使用過程中發現杯身容易刮花，這讓我有些失望。建議賣家可以嘗試使用更耐磨的材質來提高產品的耐用性。\\\n",
    "            output: [{{ \"ID\": \"01\", \"customer mood\": \"positive\",    \"design\": \"minor sealing and scratch issues\"}}, {{  \"ID\": \"02\" , \"customer mood\": \"positive\",   \"design\": \"scratch issues\"}}]'''\n",
    "\n",
    "reviews texts :'''{lamp_review}'''\n",
    "\"\"\"\n",
    "response = get_completion(prompt)"
   ]
  },
  {
   "cell_type": "code",
   "execution_count": 43,
   "metadata": {},
   "outputs": [
    {
     "data": {
      "text/plain": [
       "'[{\"ID\": \"01\", \"customer mood\": \"positive\", \"design\": \"minor sealing issues\"}, {\"ID\": \"02\", \"customer mood\": \"positive\", \"design\": \"scratch issues\"}, {\"ID\": \"03\", \"customer mood\": \"positive\", \"design\": \"slip pad issues\"}, {\"ID\": \"04\", \"customer mood\": \"positive\", \"design\": \"unknown\"}, {\"ID\": \"05\", \"customer mood\": \"neutral\", \"design\": \"sealing issues\"}, {\"ID\": \"06\", \"customer mood\": \"positive\", \"design\": \"slip pad issues\"}, {\"ID\": \"07\", \"customer mood\": \"positive\", \"design\": \"weak handle\"}, {\"ID\": \"08\", \"customer mood\": \"positive\", \"design\": \"scratch issues\"}, {\"ID\": \"09\", \"customer mood\": \"positive\", \"design\": \"unknown\"}, {\"ID\": \"10\", \"customer mood\": \"negative\", \"design\": \"sealing issues\"}, {\"ID\": \"11\", \"customer mood\": \"negative\", \"design\": \"weak handle\"}, {\"ID\": \"12\", \"customer mood\": \"negative\", \"design\": \"scratch issues\"}]'"
      ]
     },
     "execution_count": 43,
     "metadata": {},
     "output_type": "execute_result"
    }
   ],
   "source": [
    "response"
   ]
  },
  {
   "attachments": {},
   "cell_type": "markdown",
   "metadata": {},
   "source": [
    "Step 5-2 跟據結構化內容，分出與設計單位相關的內容，則設計單位不需知道與設計無關的內容，節省費用"
   ]
  },
  {
   "cell_type": "code",
   "execution_count": 45,
   "metadata": {},
   "outputs": [],
   "source": [
    "response = eval(response)\n",
    "customer_mood = response.copy()\n",
    "design = []\n",
    "review_len = len(response)\n",
    "\n",
    "for i in range(review_len):\n",
    "    design.append(response[i][\"design\"])"
   ]
  },
  {
   "cell_type": "code",
   "execution_count": 59,
   "metadata": {},
   "outputs": [
    {
     "data": {
      "text/plain": [
       "['minor sealing issues',\n",
       " 'scratch issues',\n",
       " 'slip pad issues',\n",
       " 'unknown',\n",
       " 'sealing issues',\n",
       " 'slip pad issues',\n",
       " 'weak handle',\n",
       " 'scratch issues',\n",
       " 'unknown',\n",
       " 'sealing issues',\n",
       " 'weak handle',\n",
       " 'scratch issues']"
      ]
     },
     "execution_count": 59,
     "metadata": {},
     "output_type": "execute_result"
    }
   ],
   "source": [
    "design"
   ]
  },
  {
   "attachments": {},
   "cell_type": "markdown",
   "metadata": {},
   "source": [
    "Step 6 \n",
    "\n",
    "\n",
    "跟據缺陷內容產出報告"
   ]
  },
  {
   "cell_type": "code",
   "execution_count": 67,
   "metadata": {},
   "outputs": [
    {
     "name": "stdout",
     "output_type": "stream",
     "text": [
      "產品改進報告\n",
      "\n",
      "本報告針對客戶反饋的產品問題進行分析，提出改進建議。根據客戶反饋，產品存在以下問題：\n",
      "\n",
      "1.密封問題：產品存在輕微的密封問題，需要進一步改進。該問題出現頻率為3次。\n",
      "\n",
      "2.刮傷問題：產品表面存在刮傷問題，需要加強產品表面的保護措施。該問題出現頻率為3次。\n",
      "\n",
      "3.防滑墊問題：產品防滑墊存在問題，需要進一步改進。該問題出現頻率為2次。\n",
      "\n",
      "4.手柄問題：產品手柄較弱，需要加強手柄的耐用性。該問題出現頻率為2次。\n",
      "\n",
      "根據以上問題，我們建議進一步改進產品的密封性、表面保護、防滑墊和手柄耐用性，以提高產品的品質和客戶滿意度。\n"
     ]
    }
   ],
   "source": [
    "prompt = f\"\"\"\n",
    "    -You are a product design supervisor.\\\n",
    "    -Please carefully read through the customer feedback provided for the product.\\\n",
    "    -Create a document outlining the areas for improvement in this product.\\\n",
    "    -Keep the document content concise, focusing on the flawed aspects of the product.\\\n",
    "    -Include statistical results on the frequency of occurrence for each defect.\\\n",
    "    -使用繁體中文撰寫報告內容\n",
    "\n",
    "\n",
    "review text :'''{design}'''\n",
    "\"\"\"\n",
    "response = get_completion(prompt)\n",
    "print(response)"
   ]
  },
  {
   "attachments": {},
   "cell_type": "markdown",
   "metadata": {},
   "source": [
    "Step 7\n",
    "當客人產生有退貨或退款需求，藉由其評論資料初步產生回覆，提示客戶需提供資訊，以加快後續處理時程 (末完成)"
   ]
  },
  {
   "cell_type": "code",
   "execution_count": null,
   "metadata": {},
   "outputs": [],
   "source": [
    "prompt = f\"\"\"\n",
    "\n",
    "    \n",
    "\"\"\""
   ]
  }
 ],
 "metadata": {
  "kernelspec": {
   "display_name": "openai",
   "language": "python",
   "name": "python3"
  },
  "language_info": {
   "codemirror_mode": {
    "name": "ipython",
    "version": 3
   },
   "file_extension": ".py",
   "mimetype": "text/x-python",
   "name": "python",
   "nbconvert_exporter": "python",
   "pygments_lexer": "ipython3",
   "version": "3.9.16"
  },
  "orig_nbformat": 4
 },
 "nbformat": 4,
 "nbformat_minor": 2
}
