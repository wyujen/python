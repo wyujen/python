{
 "cells": [
  {
   "attachments": {},
   "cell_type": "markdown",
   "metadata": {},
   "source": [
    "We want \n",
    "\n",
    "將客戶評論轉換成\n",
    "\n",
    "客服部：客戶追蹤\n",
    "\n",
    "設計部：產品改善\n"
   ]
  },
  {
   "cell_type": "code",
   "execution_count": 53,
   "metadata": {},
   "outputs": [],
   "source": [
    "import openai\n",
    "from langchain.output_parsers import *\n",
    "import os\n",
    "openai.api_key = os.getenv('OPENAI_API_KEY')"
   ]
  },
  {
   "cell_type": "code",
   "execution_count": 54,
   "metadata": {},
   "outputs": [],
   "source": [
    "def get_completion(prompt, model=\"gpt-3.5-turbo\"):\n",
    "    messages = [{\"role\" : \"user\", \"content\" : prompt}]\n",
    "    response = openai.ChatCompletion.create(\n",
    "        model=model,\n",
    "        messages=messages,\n",
    "        temperature=0,\n",
    "    )\n",
    "    return response.choices[0].message[\"content\"]"
   ]
  },
  {
   "attachments": {},
   "cell_type": "markdown",
   "metadata": {},
   "source": [
    "We have \n",
    "\n",
    "客戶針對商品的評論及客戶編號"
   ]
  },
  {
   "cell_type": "code",
   "execution_count": 3,
   "metadata": {},
   "outputs": [],
   "source": [
    "lamp_review = [\n",
    "\"\"\"\n",
    "ID:01\n",
    "非常感謝賣家的環保杯，這款環保杯真的讓我印象深刻！質感非常好，設計獨特，而且攜帶方便。然而，我發現杯蓋的密封性能稍微有些問題，有時候會漏水。希望賣家能夠改進這個部分，讓更多人能夠無憂使用這款環保杯。\\\n",
    "\"\"\",\n",
    "\"\"\"\n",
    "ID:02\n",
    "這款環保杯的顏色和圖案真的很吸引人，我喜歡它的環保理念。不過，我在使用過程中發現杯身容易刮花，這讓我有些失望。建議賣家可以嘗試使用更耐磨的材質來提高產品的耐用性。\\\n",
    "\"\"\",\n",
    "\"\"\"\n",
    "ID:03\n",
    "賣家的環保杯不僅環保，而且保溫效果也非常好，使我能夠隨時享受熱飲。但是，我注意到杯子底部的防滑墊圈容易脫落，這對使用者來說是一個潛在的安全隱患。希望賣家能對這個部分進行改進，確保顧客的安全。\\\n",
    "\"\"\",\n",
    "\"\"\"\n",
    "ID:04\n",
    "我很喜歡這款環保杯的設計和材質，賣家的包裝也非常精美，環保杯質量很好，而且價格合理。我對賣家的快速發貨和親切態度表示讚賞。\\\n",
    "\"\"\",\n",
    "\"\"\"\n",
    "ID:05\n",
    "我非常喜歡這款環保杯的款式和顏色。然而，在使用過程中，我發現杯蓋的密封性能不佳，有時會造成漏水的情況。希望賣家能夠改善這個問題，以提供更好的使用體驗。\\\n",
    "\"\"\",\n",
    "\"\"\"\n",
    "ID:06\n",
    "賣家的環保杯設計時尚，環保理念讓我感到欣慰。但我注意到，杯子底部的防滑墊圈容易脫落，這讓使用時感到不夠穩定。建議賣家改善這個部分，以增加產品的穩定性。\\\n",
    "\"\"\",\n",
    "\"\"\"\n",
    "ID:07\n",
    "我很滿意這款環保杯的保溫效果和外觀設計。不過，在使用過程中，我發現手柄部分較為薄弱，容易出現斷裂情況。希望賣家能夠在未來的版本中加強手柄的結構，提高其耐用性。\\\n",
    "\"\"\",\n",
    "\"\"\"\n",
    "ID:08\n",
    "這款環保杯的質感和設計都讓我印象深刻。然而，我在使用時發現杯身容易刮花，影響了產品的美觀。希望賣家能夠采用更耐磨的材料，以提高產品的抗磨損性能。\\\n",
    "\"\"\",\n",
    "\"\"\"\n",
    "ID:09\n",
    "我對賣家的環保杯整體感覺良好\\\n",
    "\"\"\",\n",
    "\"\"\"\n",
    "ID:10\n",
    "這款環保杯真的讓我非常失望！杯蓋的密封性能簡直糟糕透了，導致我多次外出時滿包包都是水。賣家應該要改進這個問題，否則無法保證消費者的基本使用需求！\\\n",
    "\"\"\",\n",
    "\"\"\"\n",
    "ID:11\n",
    "我對這款環保杯的手柄質量非常不滿意，用了沒幾天就斷裂了，這讓我感到非常生氣。賣家應該要提高產品的耐用性，別再讓顧客購買到這種劣質產品！\\\n",
    "\"\"\",\n",
    "\"\"\"\n",
    "ID:12\n",
    "這款環保杯的抗刮損能力太差了！剛用了幾次就出現了明顯的刮痕，這讓我覺得我花錢買了一個次品。賣家應該要使用更耐磨的材質，提供消費者更高品質的產品。\\\n",
    "\"\"\"\n",
    "]"
   ]
  },
  {
   "attachments": {},
   "cell_type": "markdown",
   "metadata": {},
   "source": [
    "Step 1 \n",
    "\n",
    "直接詢問LLM，但 LLM 不具有 user 的資訊，所以 LLM 無法回答 user 的問題  "
   ]
  },
  {
   "cell_type": "code",
   "execution_count": 4,
   "metadata": {},
   "outputs": [],
   "source": [
    "prompt = f\"\"\"\n",
    "\n",
    "我的產品如何?\n",
    "\n",
    "\"\"\"\n",
    "response = get_completion(prompt)"
   ]
  },
  {
   "cell_type": "code",
   "execution_count": 5,
   "metadata": {},
   "outputs": [
    {
     "name": "stdout",
     "output_type": "stream",
     "text": [
      "很抱歉，我不知道您的產品是什麼，無法回答這個問題。請提供更多的資訊，讓我能夠幫助您。\n"
     ]
    }
   ],
   "source": [
    "print(response)"
   ]
  },
  {
   "attachments": {},
   "cell_type": "markdown",
   "metadata": {},
   "source": [
    "Step 2\n",
    "\n",
    "提供客戶評論，詢問問題，但問題不夠具體"
   ]
  },
  {
   "cell_type": "code",
   "execution_count": 6,
   "metadata": {},
   "outputs": [],
   "source": [
    "prompt = f\"\"\"\n",
    "\n",
    "我的產品如何?\n",
    "\n",
    "{lamp_review}\n",
    "\"\"\"\n",
    "response = get_completion(prompt)"
   ]
  },
  {
   "cell_type": "code",
   "execution_count": 7,
   "metadata": {},
   "outputs": [
    {
     "name": "stdout",
     "output_type": "stream",
     "text": [
      "根據以上顧客的評論，產品的設計和環保理念受到了顧客的高度評價。然而，一些顧客提到了產品的一些問題，如杯蓋的密封性能、杯身容易刮花、防滑墊圈容易脫落、手柄較為薄弱等。這些問題影響了產品的使用體驗和耐用性，需要賣家進行改進。建議賣家采用更耐磨的材料、加強產品的結構和密封性能，確保產品的品質和使用體驗，滿足消費者的需求。\n"
     ]
    }
   ],
   "source": [
    "print(response)"
   ]
  },
  {
   "attachments": {},
   "cell_type": "markdown",
   "metadata": {},
   "source": [
    "Step 3\n",
    "\n",
    "提供更好的 prompt 催眠 LLM　寫出更具體的內容"
   ]
  },
  {
   "cell_type": "code",
   "execution_count": 49,
   "metadata": {},
   "outputs": [],
   "source": [
    "prompt = f\"\"\"\n",
    "\n",
    "你是一個評論分析師，跟據評論的內容製作報告，內容包含：評論中客戶的心情及產品的缺陷\n",
    "\n",
    "{lamp_review}\n",
    "\"\"\"\n",
    "response = get_completion(prompt)"
   ]
  },
  {
   "cell_type": "code",
   "execution_count": 50,
   "metadata": {},
   "outputs": [
    {
     "name": "stdout",
     "output_type": "stream",
     "text": [
      "根據以上評論，可以得出以下報告：\n",
      "\n",
      "報告顯示，大多數客戶對這款環保杯的設計和環保理念表示贊賞，但也有一些客戶提出了產品的缺陷和問題。\n",
      "\n",
      "其中，客戶最常提到的問題是杯蓋的密封性能不佳，有時會漏水，這是客戶使用體驗的一個重要問題。另外，客戶也提到了杯身容易刮花、杯子底部的防滑墊圈容易脫落、手柄較為薄弱容易斷裂等問題，這些問題都影響了產品的耐用性和美觀度。\n",
      "\n",
      "因此，建議賣家應該儘快改進這些問題，提高產品的品質和使用體驗，以滿足客戶的需求和期望。同時，賣家也應該加強產品的品管和售後服務，以提高客戶的滿意度和忠誠度。\n"
     ]
    }
   ],
   "source": [
    "print(response)"
   ]
  },
  {
   "attachments": {},
   "cell_type": "markdown",
   "metadata": {},
   "source": [
    "Step 4\n",
    "\n",
    "用條列示指導 LLM 逐步思考，輸出指定內容，同時使用英文 prompt "
   ]
  },
  {
   "cell_type": "code",
   "execution_count": 52,
   "metadata": {},
   "outputs": [],
   "source": [
    "prompt = f\"\"\"\n",
    "\n",
    "-Please read through these comments one by one.\\\n",
    "-You are an evaluation analyst who will categorize each comment into customer sentiment and product defects.\\\n",
    "-Please help me summarize the customer sentiment and product defects into two reports.\\\n",
    "-The first report will be about the customer sentiment in the comments, which will be provided as a reference for the customer service department.\\\n",
    "-The second report will be about the product defects in the comments, which will be provided to the product design department for product improvement.\\\n",
    "-Each report should be 200 words long.\\\n",
    "-使用繁體中文製作報告內容\\\n",
    "\n",
    "Customer review：'''{lamp_review}'''\n",
    "\"\"\"\n",
    "response = get_completion(prompt)"
   ]
  },
  {
   "cell_type": "code",
   "execution_count": 24,
   "metadata": {},
   "outputs": [
    {
     "name": "stdout",
     "output_type": "stream",
     "text": [
      "報告一：顧客情感報告\n",
      "\n",
      "這些顧客對環保杯的評價大多是正面的，他們對產品的設計和質量都給予了高度評價。然而，一些顧客也提出了產品的缺陷，如杯蓋的密封性能不佳、杯身容易刮花、防滑墊圈容易脫落等。這些問題對顧客的使用體驗產生了負面影響，需要賣家進行改進。此外，一些顧客對手柄的質量和耐用性提出了擔憂，希望賣家能夠加強相關部分的設計和材料選擇。總體而言，顧客對環保杯的評價是積極的，但仍有一些問題需要解決。\n",
      "\n",
      "報告二：產品缺陷報告\n",
      "\n",
      "從顧客的評價中可以看出，環保杯存在一些缺陷。其中最常見的問題是杯蓋的密封性能不佳，容易造成漏水的情況。此外，杯身容易刮花、防滑墊圈容易脫落、手柄質量不佳等問題也被多位顧客提出。這些缺陷對產品的品質和使用體驗產生了負面影響，需要賣家進行改進。建議賣家在設計和材料選擇上加強相關部分，提高產品的品質和耐用性。此外，賣家還需要加強產品的品質控制，確保每一個產品都符合顧客的期望和需求。\n"
     ]
    }
   ],
   "source": [
    "print(response)"
   ]
  },
  {
   "attachments": {},
   "cell_type": "markdown",
   "metadata": {},
   "source": [
    "Step 5\n",
    "\n",
    "考量客戶評論的內容，無最大值上限，但 token 有上限\n",
    "\n",
    "所以需做專業分工，分類內容，結構化輸出，以利後續系統操作"
   ]
  },
  {
   "cell_type": "code",
   "execution_count": 56,
   "metadata": {},
   "outputs": [],
   "source": [
    "prompt = f\"\"\"\n",
    "\n",
    "After reviewing each comment, summarize the following items before moving on to the next comment.\n",
    "    -revirwer reviewID \"ID\"\n",
    "    -revirwer Customer's emotion \"customer mood\"\n",
    "    -revirwer Product flaws \"design\"\n",
    "\n",
    "    \n",
    "    Each review format your response as a JSON object with \\\n",
    "    \"ID\" and \"customer mood\" and \"design\" as the key.\\\n",
    "    Each review is stored as an array in different positions.\\\n",
    "    If the information isn't present ,use \"unknown\"as the value \\\n",
    "    make your response as 10 word as possible\n",
    "\n",
    "\n",
    "    \n",
    "reviews texts :'''{lamp_review}'''\n",
    "\"\"\"\n",
    "response = get_completion(prompt)"
   ]
  },
  {
   "cell_type": "code",
   "execution_count": 57,
   "metadata": {},
   "outputs": [
    {
     "name": "stdout",
     "output_type": "stream",
     "text": [
      "1. {\"ID\": \"01\", \"customer mood\": \"impressed\", \"design\": \"leakage issue with lid seal\"}\n",
      "2. {\"ID\": \"02\", \"customer mood\": \"disappointed\", \"design\": \"easily scratched body\"}\n",
      "3. {\"ID\": \"03\", \"customer mood\": \"satisfied\", \"design\": \"slippery bottom pad\"}\n",
      "4. {\"ID\": \"04\", \"customer mood\": \"appreciative\", \"design\": \"good quality and reasonable price\"}\n",
      "5. {\"ID\": \"05\", \"customer mood\": \"disappointed\", \"design\": \"poor lid seal performance\"}\n",
      "6. {\"ID\": \"06\", \"customer mood\": \"pleased\", \"design\": \"unstable bottom pad\"}\n",
      "7. {\"ID\": \"07\", \"customer mood\": \"satisfied\", \"design\": \"weak handle structure\"}\n",
      "8. {\"ID\": \"08\", \"customer mood\": \"impressed\", \"design\": \"easily scratched body\"}\n",
      "9. {\"ID\": \"09\", \"customer mood\": \"positive\", \"design\": \"unknown\"}\n",
      "10. {\"ID\": \"10\", \"customer mood\": \"very disappointed\", \"design\": \"terrible lid seal performance\"}\n",
      "11. {\"ID\": \"11\", \"customer mood\": \"very dissatisfied\", \"design\": \"weak handle quality\"}\n",
      "12. {\"ID\": \"12\", \"customer mood\": \"unhappy\", \"design\": \"poor scratch resistance\"}\n"
     ]
    }
   ],
   "source": [
    "print(response)"
   ]
  },
  {
   "attachments": {},
   "cell_type": "markdown",
   "metadata": {},
   "source": [
    "Step 5-1 加入格式 example 使輸出更符合期待"
   ]
  },
  {
   "cell_type": "code",
   "execution_count": 42,
   "metadata": {},
   "outputs": [],
   "source": [
    "prompt = f\"\"\"\n",
    "\n",
    "After reviewing each comment, summarize the following items before moving on to the next comment.\n",
    "   -revirwer reviewID \"ID\"\n",
    "   -revirwer Customer's emotion \"customer mood\"\n",
    "   -revirwer Product flaws \"design\"\n",
    "\n",
    "   Each review format your response as a JSON object with \\\n",
    "   \"ID\" and \"customer mood\" and \"design\" as the key.\\\n",
    "   Each review is stored as an array in different positions.\\\n",
    "   If the information isn't present ,use \"unknown\" as the value \\\n",
    "   make your response as 10 word as possible\n",
    "\n",
    "   example：'''review: 1. ID:01\n",
    "                        非常感謝賣家的環保杯，這款環保杯真的讓我印象深刻！質感非常好，設計獨特，而且攜帶方便。然而，我發現杯蓋的密封性能稍微有些問題，有時候會漏水。希望賣家能夠改進這個部分，讓更多人能夠無憂使用這款環保杯。\n",
    "                        2. ID:02\n",
    "                        這款環保杯的顏色和圖案真的很吸引人，我喜歡它的環保理念。不過，我在使用過程中發現杯身容易刮花，這讓我有些失望。建議賣家可以嘗試使用更耐磨的材質來提高產品的耐用性。\\\n",
    "            output: [{{ \"ID\": \"01\", \"customer mood\": \"positive\",    \"design\": \"minor sealing and scratch issues\"}}, {{  \"ID\": \"02\" , \"customer mood\": \"positive\",   \"design\": \"scratch issues\"}}]'''\n",
    "\n",
    "reviews texts :'''{lamp_review}'''\n",
    "\"\"\"\n",
    "response = get_completion(prompt)"
   ]
  },
  {
   "cell_type": "code",
   "execution_count": 43,
   "metadata": {},
   "outputs": [
    {
     "data": {
      "text/plain": [
       "'[{\"ID\": \"01\", \"customer mood\": \"positive\", \"design\": \"minor sealing issues\"}, {\"ID\": \"02\", \"customer mood\": \"positive\", \"design\": \"scratch issues\"}, {\"ID\": \"03\", \"customer mood\": \"positive\", \"design\": \"slip pad issues\"}, {\"ID\": \"04\", \"customer mood\": \"positive\", \"design\": \"unknown\"}, {\"ID\": \"05\", \"customer mood\": \"neutral\", \"design\": \"sealing issues\"}, {\"ID\": \"06\", \"customer mood\": \"positive\", \"design\": \"slip pad issues\"}, {\"ID\": \"07\", \"customer mood\": \"positive\", \"design\": \"weak handle\"}, {\"ID\": \"08\", \"customer mood\": \"positive\", \"design\": \"scratch issues\"}, {\"ID\": \"09\", \"customer mood\": \"positive\", \"design\": \"unknown\"}, {\"ID\": \"10\", \"customer mood\": \"negative\", \"design\": \"sealing issues\"}, {\"ID\": \"11\", \"customer mood\": \"negative\", \"design\": \"weak handle\"}, {\"ID\": \"12\", \"customer mood\": \"negative\", \"design\": \"scratch issues\"}]'"
      ]
     },
     "execution_count": 43,
     "metadata": {},
     "output_type": "execute_result"
    }
   ],
   "source": [
    "response"
   ]
  },
  {
   "attachments": {},
   "cell_type": "markdown",
   "metadata": {},
   "source": [
    "Step 5-2 跟據結構化內容，分出與設計單位相關的內容，則設計單位不需知道與設計無關的內容，節省費用"
   ]
  },
  {
   "cell_type": "code",
   "execution_count": 45,
   "metadata": {},
   "outputs": [],
   "source": [
    "response = eval(response)\n",
    "customer_mood = response.copy()\n",
    "design = []\n",
    "review_len = len(response)\n",
    "\n",
    "for i in range(review_len):\n",
    "    design.append(response[i][\"design\"])"
   ]
  },
  {
   "cell_type": "code",
   "execution_count": 59,
   "metadata": {},
   "outputs": [
    {
     "data": {
      "text/plain": [
       "['minor sealing issues',\n",
       " 'scratch issues',\n",
       " 'slip pad issues',\n",
       " 'unknown',\n",
       " 'sealing issues',\n",
       " 'slip pad issues',\n",
       " 'weak handle',\n",
       " 'scratch issues',\n",
       " 'unknown',\n",
       " 'sealing issues',\n",
       " 'weak handle',\n",
       " 'scratch issues']"
      ]
     },
     "execution_count": 59,
     "metadata": {},
     "output_type": "execute_result"
    }
   ],
   "source": [
    "design"
   ]
  },
  {
   "attachments": {},
   "cell_type": "markdown",
   "metadata": {},
   "source": [
    "Step 6 \n",
    "\n",
    "\n",
    "跟據缺陷內容產出報告"
   ]
  },
  {
   "cell_type": "code",
   "execution_count": 48,
   "metadata": {},
   "outputs": [
    {
     "name": "stdout",
     "output_type": "stream",
     "text": [
      "產品改進報告\n",
      "\n",
      "本產品在客戶反饋中存在以下問題：\n",
      "\n",
      "1.密封問題：多次出現，需要改進密封設計，以確保產品密封性能。\n",
      "\n",
      "2.刮傷問題：多次出現，需要改進產品表面材料，以提高產品耐用性。\n",
      "\n",
      "3.防滑墊問題：多次出現，需要改進防滑墊設計，以提高產品穩定性。\n",
      "\n",
      "4.手柄問題：多次出現，需要改進手柄設計，以提高產品使用舒適度和耐用性。\n",
      "\n",
      "綜上所述，本產品需要改進的主要問題為密封、耐用性、穩定性和舒適度等方面。希望能夠在下一版產品中得到改進。\n"
     ]
    }
   ],
   "source": [
    "prompt = f\"\"\"\n",
    "    -You are a product design supervisor.\\\n",
    "    -Please carefully read through the customer feedback provided for the product.\\\n",
    "    -Create a document outlining the areas for improvement in this product.\\\n",
    "    -Keep the document content concise, focusing on the flawed aspects of the product.\\\n",
    "    -使用繁體中文撰寫報告內容\n",
    "\n",
    "\n",
    "review text :'''{design}'''\n",
    "\"\"\"\n",
    "response = get_completion(prompt)\n",
    "print(response)"
   ]
  },
  {
   "attachments": {},
   "cell_type": "markdown",
   "metadata": {},
   "source": [
    "Step 7\n",
    "當客人產生有退貨或退款需求，藉由其評論資料初步產生回覆，提示客戶需提供資訊，以加快後續處理時程 (末完成)"
   ]
  },
  {
   "cell_type": "code",
   "execution_count": null,
   "metadata": {},
   "outputs": [],
   "source": [
    "prompt = f\"\"\"\n",
    "\n",
    "    \n",
    "\"\"\""
   ]
  }
 ],
 "metadata": {
  "kernelspec": {
   "display_name": "openai",
   "language": "python",
   "name": "python3"
  },
  "language_info": {
   "codemirror_mode": {
    "name": "ipython",
    "version": 3
   },
   "file_extension": ".py",
   "mimetype": "text/x-python",
   "name": "python",
   "nbconvert_exporter": "python",
   "pygments_lexer": "ipython3",
   "version": "3.9.16"
  },
  "orig_nbformat": 4
 },
 "nbformat": 4,
 "nbformat_minor": 2
}
