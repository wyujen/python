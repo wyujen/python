{
 "cells": [
  {
   "cell_type": "code",
   "execution_count": 2,
   "metadata": {},
   "outputs": [],
   "source": [
    "import openai\n",
    "import os\n",
    "openai.api_key = os.getenv('OPENAI_API_KEY')"
   ]
  },
  {
   "cell_type": "code",
   "execution_count": 3,
   "metadata": {},
   "outputs": [],
   "source": [
    "def get_completion(prompt, model=\"gpt-3.5-turbo\"):\n",
    "    messages = [{\"role\" : \"user\", \"content\" : prompt}]\n",
    "    response = openai.ChatCompletion.create(\n",
    "        model=model,\n",
    "        messages=messages,\n",
    "        temperature=0,\n",
    "    )\n",
    "    return response.choices[0].message[\"content\"]"
   ]
  },
  {
   "cell_type": "code",
   "execution_count": 4,
   "metadata": {},
   "outputs": [],
   "source": [
    "lamp_review = \"\"\"\n",
    "\n",
    "東西收到，很滿意!!真的是超級好的賣家，解答疑問不厭其煩，細緻認真，關鍵是東西好，而且貨物發得超快，包裝仔細，值得信賴!\n",
    "\n",
    "\"\"\""
   ]
  },
  {
   "cell_type": "code",
   "execution_count": 5,
   "metadata": {},
   "outputs": [
    {
     "name": "stdout",
     "output_type": "stream",
     "text": [
      "{\"customer service\": \"excellent\", \"design\": \"unknown\"}\n"
     ]
    }
   ],
   "source": [
    "prompt = f\"\"\"\n",
    "\n",
    "從評論中辨識以下項目\n",
    "-revirwer 客戶的情緒到 \"customer\"\n",
    "-revirwer 商品的瑕疵 \"design\"\n",
    "\n",
    "the review is delimtited with triple backticks .\\\n",
    "Format your response as a JSON object with \\\n",
    "\"customer service\" and \"design\" as the key.\n",
    "If the information isn't present ,use \"unknown\"\\\n",
    "as the value \n",
    "make your response as 10 word as possible\n",
    "\n",
    "review text ='''{lamp_review}'''\n",
    "\"\"\"\n",
    "response = get_completion(prompt)\n",
    "print(response)\n"
   ]
  },
  {
   "cell_type": "code",
   "execution_count": 14,
   "metadata": {},
   "outputs": [],
   "source": [
    "import json \n",
    "from langchain.prompts.prompt import PromptTemplate"
   ]
  },
  {
   "cell_type": "code",
   "execution_count": 7,
   "metadata": {},
   "outputs": [],
   "source": [
    "a= json.loads(response)"
   ]
  },
  {
   "cell_type": "code",
   "execution_count": 27,
   "metadata": {},
   "outputs": [
    {
     "data": {
      "text/plain": [
       "'unknown'"
      ]
     },
     "execution_count": 27,
     "metadata": {},
     "output_type": "execute_result"
    }
   ],
   "source": [
    "a['design']\n"
   ]
  },
  {
   "cell_type": "code",
   "execution_count": 28,
   "metadata": {},
   "outputs": [],
   "source": [
    "import openai\n",
    "from langchain.output_parsers import *\n",
    "import json\n",
    "import os\n",
    "openai.api_key = os.getenv('OPENAI_API_KEY')"
   ]
  },
  {
   "cell_type": "code",
   "execution_count": 12,
   "metadata": {},
   "outputs": [
    {
     "ename": "SyntaxError",
     "evalue": "invalid syntax (2555666310.py, line 1)",
     "output_type": "error",
     "traceback": [
      "\u001b[1;36m  Cell \u001b[1;32mIn[12], line 1\u001b[1;36m\u001b[0m\n\u001b[1;33m    a[0]{'disign'}\u001b[0m\n\u001b[1;37m        ^\u001b[0m\n\u001b[1;31mSyntaxError\u001b[0m\u001b[1;31m:\u001b[0m invalid syntax\n"
     ]
    }
   ],
   "source": [
    "def get_completion(prompt, model=\"gpt-3.5-turbo\"):\n",
    "    messages = [{\"role\" : \"user\", \"content\" : prompt}]\n",
    "    response = openai.ChatCompletion.create(\n",
    "        model=model,\n",
    "        messages=messages,\n",
    "        temperature=0,\n",
    "    )\n",
    "    return response.choices[0].message[\"content\"]"
   ]
  },
  {
   "cell_type": "code",
   "execution_count": 29,
   "metadata": {},
   "outputs": [],
   "source": [
    "lamp_review = [\"\"\"\n",
    "\n",
    "非常感謝賣家的環保杯，這款環保杯真的讓我印象深刻！質感非常好，設計獨特，而且攜帶方便。然而，我發現杯蓋的密封性能稍微有些問題，有時候會漏水。希望賣家能夠改進這個部分，讓更多人能夠無憂使用這款環保杯。\\ \\\n",
    "\n",
    "這款環保杯的顏色和圖案真的很吸引人，我喜歡它的環保理念。不過，我在使用過程中發現杯身容易刮花，這讓我有些失望。建議賣家可以嘗試使用更耐磨的材質來提高產品的耐用性。\\\n",
    "\n",
    "賣家的環保杯不僅環保，而且保溫效果也非常好，使我能夠隨時享受熱飲。但是，我注意到杯子底部的防滑墊圈容易脫落，這對使用者來說是一個潛在的安全隱患。希望賣家能對這個部分進行改進，確保顧客的安全。\\\n",
    "\n",
    "我很喜歡這款環保杯的設計和材質，賣家的包裝也非常精美，環保杯質量很好，而且價格合理。我對賣家的快速發貨和親切態度表示讚賞。\\\n",
    "\n",
    "我非常喜歡這款環保杯的款式和顏色。然而，在使用過程中，我發現杯蓋的密封性能不佳，有時會造成漏水的情況。希望賣家能夠改善這個問題，以提供更好的使用體驗。\\\n",
    "\n",
    "賣家的環保杯設計時尚，環保理念讓我感到欣慰。但我注意到，杯子底部的防滑墊圈容易脫落，這讓使用時感到不夠穩定。建議賣家改善這個部分，以增加產品的穩定性。\\\n",
    "\n",
    "我很滿意這款環保杯的保溫效果和外觀設計。不過，在使用過程中，我發現手柄部分較為薄弱，容易出現斷裂情況。希望賣家能夠在未來的版本中加強手柄的結構，提高其耐用性。\\\n",
    "\n",
    "這款環保杯的質感和設計都讓我印象深刻。然而，我在使用時發現杯身容易刮花，影響了產品的美觀。希望賣家能夠采用更耐磨的材料，以提高產品的抗磨損性能。\\\n",
    "\n",
    "我對賣家的環保杯整體感覺良好\\\n",
    "\n",
    "這款環保杯真的讓我非常失望！杯蓋的密封性能簡直糟糕透了，導致我多次外出時滿包包都是水。賣家應該要改進這個問題，否則無法保證消費者的基本使用需求！\\\n",
    "\n",
    "我對這款環保杯的手柄質量非常不滿意，用了沒幾天就斷裂了，這讓我感到非常生氣。賣家應該要提高產品的耐用性，別再讓顧客購買到這種劣質產品！\\\n",
    "\n",
    "這款環保杯的抗刮損能力太差了！剛用了幾次就出現了明顯的刮痕，這讓我覺得我花錢買了一個次品。賣家應該要使用更耐磨的材質，提供消費者更高品質的產品。\\\n",
    "\n",
    "\"\"\"]"
   ]
  },
  {
   "cell_type": "code",
   "execution_count": 62,
   "metadata": {},
   "outputs": [
    {
     "name": "stdout",
     "output_type": "stream",
     "text": [
      "['[\\n  {\"customer mood\": \"positive\", \"design\": \"minor sealing issue\"},\\n  {\"customer mood\": \"positive\", \"design\": \"easily scratched body\"},\\n  {\"customer mood\": \"positive\", \"design\": \"slippery bottom pad\"},\\n  {\"customer mood\": \"positive\", \"design\": \"good quality and packaging\"},\\n  {\"customer mood\": \"negative\", \"design\": \"poor sealing performance\"},\\n  {\"customer mood\": \"positive\", \"design\": \"stylish design and eco-friendly concept\"},\\n  {\"customer mood\": \"negative\", \"design\": \"weak handle structure\"},\\n  {\"customer mood\": \"positive\", \"design\": \"impressive quality and design\"},\\n  {\"customer mood\": \"negative\", \"design\": \"poor sealing performance\"},\\n  {\"customer mood\": \"negative\", \"design\": \"poor handle quality\"},\\n  {\"customer mood\": \"negative\", \"design\": \"easily scratched body\"}\\n]', '[\\n  {\"customer mood\": \"positive\", \"design\": \"minor sealing issue\"},\\n  {\"customer mood\": \"positive\", \"design\": \"easily scratched body\"},\\n  {\"customer mood\": \"positive\", \"design\": \"slippery bottom pad\"},\\n  {\"customer mood\": \"positive\", \"design\": \"good quality and packaging\"},\\n  {\"customer mood\": \"negative\", \"design\": \"major sealing issue\"},\\n  {\"customer mood\": \"negative\", \"design\": \"weak handle structure\"},\\n  {\"customer mood\": \"negative\", \"design\": \"easily scratched body\"},\\n  {\"customer mood\": \"positive\", \"design\": \"satisfied overall\"},\\n  {\"customer mood\": \"negative\", \"design\": \"major sealing issue\"},\\n  {\"customer mood\": \"negative\", \"design\": \"poor handle quality\"},\\n  {\"customer mood\": \"negative\", \"design\": \"poor scratch resistance\"}\\n]']\n"
     ]
    }
   ],
   "source": [
    "response = []\n",
    "for review in lamp_review:\n",
    "    prompt = f\"\"\"\n",
    "\n",
    "    After reviewing each comment, summarize the following items before moving on to the next comment.\n",
    "    -revirwer Customer's emotion \"customer mood\"\n",
    "    -revirwer Product flaws \"design\"\n",
    "\n",
    "    \n",
    "    Each review format your response as a JSON object with \\\n",
    "    \"customer mood\" and \"design\" as the key.\\\n",
    "    Each review is stored as an array in different positions.\\\n",
    "    If the information isn't present ,use \"unknown\"\\\n",
    "    as the value \n",
    "    make your response as 10 word as possible,and use Traditional Chinese\n",
    "\n",
    "    reviews texts :'''{lamp_review}'''\n",
    "    \"\"\"\n",
    "    response.append(get_completion(prompt))\n",
    "print(response)"
   ]
  },
  {
   "cell_type": "code",
   "execution_count": 80,
   "metadata": {},
   "outputs": [
    {
     "data": {
      "text/plain": [
       "str"
      ]
     },
     "execution_count": 80,
     "metadata": {},
     "output_type": "execute_result"
    }
   ],
   "source": [
    "response = response[0]\n",
    "type(re)"
   ]
  },
  {
   "cell_type": "code",
   "execution_count": 83,
   "metadata": {},
   "outputs": [],
   "source": [
    "response = (re.replace(\"\\n\", \"\"))\n",
    "response = eval(response)"
   ]
  },
  {
   "cell_type": "code",
   "execution_count": 86,
   "metadata": {},
   "outputs": [
    {
     "data": {
      "text/plain": [
       "'positive'"
      ]
     },
     "execution_count": 86,
     "metadata": {},
     "output_type": "execute_result"
    }
   ],
   "source": [
    "response[0][\"customer mood\"]"
   ]
  },
  {
   "cell_type": "code",
   "execution_count": 104,
   "metadata": {},
   "outputs": [],
   "source": [
    "customer_mood = []\n",
    "design = []\n",
    "review_len = len(response)"
   ]
  },
  {
   "cell_type": "code",
   "execution_count": 105,
   "metadata": {},
   "outputs": [],
   "source": [
    "for i in range(review_len):\n",
    "    customer_mood.append(response[i][\"customer mood\"])\n",
    "    design.append(response[i][\"design\"])"
   ]
  },
  {
   "cell_type": "code",
   "execution_count": 106,
   "metadata": {},
   "outputs": [
    {
     "data": {
      "text/plain": [
       "['minor sealing issue',\n",
       " 'easily scratched body',\n",
       " 'slippery bottom pad',\n",
       " 'good quality and packaging',\n",
       " 'poor sealing performance',\n",
       " 'stylish design and eco-friendly concept',\n",
       " 'weak handle structure',\n",
       " 'impressive quality and design',\n",
       " 'poor sealing performance',\n",
       " 'poor handle quality',\n",
       " 'easily scratched body']"
      ]
     },
     "execution_count": 106,
     "metadata": {},
     "output_type": "execute_result"
    }
   ],
   "source": [
    "design"
   ]
  },
  {
   "cell_type": "code",
   "execution_count": 107,
   "metadata": {},
   "outputs": [
    {
     "data": {
      "text/plain": [
       "['positive',\n",
       " 'positive',\n",
       " 'positive',\n",
       " 'positive',\n",
       " 'negative',\n",
       " 'positive',\n",
       " 'negative',\n",
       " 'positive',\n",
       " 'negative',\n",
       " 'negative',\n",
       " 'negative']"
      ]
     },
     "execution_count": 107,
     "metadata": {},
     "output_type": "execute_result"
    }
   ],
   "source": [
    "customer_mood"
   ]
  },
  {
   "cell_type": "code",
   "execution_count": 79,
   "metadata": {},
   "outputs": [
    {
     "data": {
      "text/plain": [
       "{'customer mood': 'positive', 'design': 'minor sealing issue'}"
      ]
     },
     "execution_count": 79,
     "metadata": {},
     "output_type": "execute_result"
    }
   ],
   "source": []
  },
  {
   "cell_type": "code",
   "execution_count": 71,
   "metadata": {},
   "outputs": [
    {
     "data": {
      "text/plain": [
       "list"
      ]
     },
     "execution_count": 71,
     "metadata": {},
     "output_type": "execute_result"
    }
   ],
   "source": []
  },
  {
   "cell_type": "code",
   "execution_count": 72,
   "metadata": {},
   "outputs": [
    {
     "data": {
      "text/plain": [
       "'['"
      ]
     },
     "execution_count": 72,
     "metadata": {},
     "output_type": "execute_result"
    }
   ],
   "source": [
    "er[0]"
   ]
  },
  {
   "cell_type": "code",
   "execution_count": 34,
   "metadata": {},
   "outputs": [
    {
     "data": {
      "text/plain": [
       "'{\\n    \"customer mood\": \"positive\",\\n    \"design\": \"minor sealing and anti-slip issues\"\\n}\\n{\\n    \"customer mood\": \"positive\",\\n    \"design\": \"easily scratched body\"\\n}\\n{\\n    \"customer mood\": \"positive\",\\n    \"design\": \"unknown\"\\n}\\n{\\n    \"customer mood\": \"negative\",\\n    \"design\": \"poor sealing performance\"\\n}\\n{\\n    \"customer mood\": \"negative\",\\n    \"design\": \"weak handle quality\"\\n}\\n{\\n    \"customer mood\": \"negative\",\\n    \"design\": \"poor scratch resistance\"\\n}'"
      ]
     },
     "execution_count": 34,
     "metadata": {},
     "output_type": "execute_result"
    }
   ],
   "source": [
    "response[1]"
   ]
  },
  {
   "cell_type": "code",
   "execution_count": null,
   "metadata": {},
   "outputs": [],
   "source": [
    "{\n",
    "    \"customer mood\": \"感謝且建議\",\n",
    "    \"design\": \"杯蓋密封性能稍有問題\"\n",
    "}\n",
    "{\n",
    "    \"customer mood\": \"失望且建議\",\n",
    "    \"design\": \"杯身容易刮花\"\n",
    "}\n",
    "{\n",
    "    \"customer mood\": \"感謝且建議\",\n",
    "    \"design\": \"杯底防滑墊圈易脫落\"\n",
    "}\n",
    "{\n",
    "    \"customer mood\": \"感謝且讚賞\",\n",
    "    \"design\": \"無\"\n",
    "}\n",
    "{\n",
    "    \"customer mood\": \"失望且建議\",\n",
    "    \"design\": \"杯蓋密封性能不佳\"\n",
    "}\n",
    "{\n",
    "    \"customer mood\": \"感謝且建議\",\n",
    "    \"design\": \"杯底防滑墊圈易脫落\"\n",
    "}\n",
    "{\n",
    "    \"customer mood\": \"滿意且建議\",\n",
    "    \"design\": \"手柄較薄弱易斷裂\"\n",
    "}\n",
    "{\n",
    "    \"customer mood\": \"失望且建議\",\n",
    "    \"design\": \"杯身容易刮花\"\n",
    "}\n",
    "{\n",
    "    \"customer mood\": \"感覺良好\",\n",
    "    \"design\": \"無\"\n",
    "}\n",
    "{\n",
    "    \"customer mood\": \"非常失望且建議\",\n",
    "    \"design\": \"杯蓋密封性能糟糕\"\n",
    "}\n",
    "{\n",
    "    \"customer mood\": \"不滿且建議\",\n",
    "    \"design\": \"手柄質量差易斷裂\"\n",
    "}\n",
    "{\n",
    "    \"customer mood\": \"不滿且建議\",\n",
    "    \"design\": \"抗刮損能力差\"\n",
    "}"
   ]
  }
 ],
 "metadata": {
  "kernelspec": {
   "display_name": "openai",
   "language": "python",
   "name": "python3"
  },
  "language_info": {
   "codemirror_mode": {
    "name": "ipython",
    "version": 3
   },
   "file_extension": ".py",
   "mimetype": "text/x-python",
   "name": "python",
   "nbconvert_exporter": "python",
   "pygments_lexer": "ipython3",
   "version": "3.9.16"
  },
  "orig_nbformat": 4
 },
 "nbformat": 4,
 "nbformat_minor": 2
}
