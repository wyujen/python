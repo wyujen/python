{
 "cells": [
  {
   "cell_type": "code",
   "execution_count": 8,
   "metadata": {},
   "outputs": [],
   "source": [
    "import os\n",
    "openai.api_key = os.getenv('OPENAI_API_KEY')"
   ]
  },
  {
   "cell_type": "code",
   "execution_count": 24,
   "metadata": {},
   "outputs": [],
   "source": [
    "import openai\n",
    "from langchain.output_parsers import *\n"
   ]
  },
  {
   "cell_type": "code",
   "execution_count": 10,
   "metadata": {},
   "outputs": [],
   "source": [
    "def get_completion(prompt, model=\"gpt-3.5-turbo\"):\n",
    "    messages = [{\"role\" : \"user\", \"content\" : prompt}]\n",
    "    response = openai.ChatCompletion.create(\n",
    "        model=model,\n",
    "        messages=messages,\n",
    "        temperature=0,\n",
    "    )\n",
    "    return response.choices[0].message[\"content\"]"
   ]
  },
  {
   "cell_type": "code",
   "execution_count": 11,
   "metadata": {},
   "outputs": [],
   "source": [
    "lamp_review = [\"\"\"\n",
    "\n",
    "非常感謝賣家的環保杯，這款環保杯真的讓我印象深刻！質感非常好，設計獨特，而且攜帶方便。然而，我發現杯蓋的密封性能稍微有些問題，有時候會漏水。希望賣家能夠改進這個部分，讓更多人能夠無憂使用這款環保杯。\\ \\\n",
    "\n",
    "這款環保杯的顏色和圖案真的很吸引人，我喜歡它的環保理念。不過，我在使用過程中發現杯身容易刮花，這讓我有些失望。建議賣家可以嘗試使用更耐磨的材質來提高產品的耐用性。\\\n",
    "\n",
    "賣家的環保杯不僅環保，而且保溫效果也非常好，使我能夠隨時享受熱飲。但是，我注意到杯子底部的防滑墊圈容易脫落，這對使用者來說是一個潛在的安全隱患。希望賣家能對這個部分進行改進，確保顧客的安全。\\\n",
    "\n",
    "我很喜歡這款環保杯的設計和材質，賣家的包裝也非常精美，環保杯質量很好，而且價格合理。我對賣家的快速發貨和親切態度表示讚賞。\\\n",
    "\n",
    "我非常喜歡這款環保杯的款式和顏色。然而，在使用過程中，我發現杯蓋的密封性能不佳，有時會造成漏水的情況。希望賣家能夠改善這個問題，以提供更好的使用體驗。\\\n",
    "\n",
    "賣家的環保杯設計時尚，環保理念讓我感到欣慰。但我注意到，杯子底部的防滑墊圈容易脫落，這讓使用時感到不夠穩定。建議賣家改善這個部分，以增加產品的穩定性。\\\n",
    "\n",
    "我很滿意這款環保杯的保溫效果和外觀設計。不過，在使用過程中，我發現手柄部分較為薄弱，容易出現斷裂情況。希望賣家能夠在未來的版本中加強手柄的結構，提高其耐用性。\\\n",
    "\n",
    "這款環保杯的質感和設計都讓我印象深刻。然而，我在使用時發現杯身容易刮花，影響了產品的美觀。希望賣家能夠采用更耐磨的材料，以提高產品的抗磨損性能。\\\n",
    "\n",
    "我對賣家的環保杯整體感覺良好\\\n",
    "\n",
    "這款環保杯真的讓我非常失望！杯蓋的密封性能簡直糟糕透了，導致我多次外出時滿包包都是水。賣家應該要改進這個問題，否則無法保證消費者的基本使用需求！\\\n",
    "\n",
    "我對這款環保杯的手柄質量非常不滿意，用了沒幾天就斷裂了，這讓我感到非常生氣。賣家應該要提高產品的耐用性，別再讓顧客購買到這種劣質產品！\\\n",
    "\n",
    "這款環保杯的抗刮損能力太差了！剛用了幾次就出現了明顯的刮痕，這讓我覺得我花錢買了一個次品。賣家應該要使用更耐磨的材質，提供消費者更高品質的產品。\\\n",
    "\n",
    "\"\"\"]"
   ]
  },
  {
   "cell_type": "code",
   "execution_count": 25,
   "metadata": {},
   "outputs": [
    {
     "name": "stdout",
     "output_type": "stream",
     "text": [
      "['{\\n    \"customer mood\": \"positive\",\\n    \"design\": \"minor seal and scratch issues\"\\n},\\n{\\n    \"customer mood\": \"positive\",\\n    \"design\": \"slippery bottom pad\"\\n},\\n{\\n    \"customer mood\": \"positive\",\\n    \"design\": \"unknown\"\\n},\\n{\\n    \"customer mood\": \"positive\",\\n    \"design\": \"seal issue\"\\n},\\n{\\n    \"customer mood\": \"positive\",\\n    \"design\": \"slippery bottom pad\"\\n},\\n{\\n    \"customer mood\": \"positive\",\\n    \"design\": \"weak handle\"\\n},\\n{\\n    \"customer mood\": \"positive\",\\n    \"design\": \"scratch issues\"\\n},\\n{\\n    \"customer mood\": \"positive\",\\n    \"design\": \"unknown\"\\n},\\n{\\n    \"customer mood\": \"negative\",\\n    \"design\": \"seal issue\"\\n},\\n{\\n    \"customer mood\": \"negative\",\\n    \"design\": \"weak handle\"\\n},\\n{\\n    \"customer mood\": \"negative\",\\n    \"design\": \"scratch issues\"\\n}']\n"
     ]
    }
   ],
   "source": [
    "response = []\n",
    "for review in lamp_review:\n",
    "    prompt = f\"\"\"\n",
    "\n",
    "    After reviewing each comment, summarize the following items before moving on to the next comment.\n",
    "    -revirwer Customer's emotion \"customer mood\"\n",
    "    -revirwer Product flaws \"design\"\n",
    "\n",
    "    \n",
    "    Each review format your response as a JSON object with \\\n",
    "    \"customer mood\" and \"design\" as the key.\\\n",
    "    Each review is stored as an array in different positions.\\\n",
    "    If the information isn't present ,use \"unknown\"\\\n",
    "    as the value \n",
    "    make your response as 10 word as possible\n",
    "\n",
    "    reviews texts :'''{lamp_review}'''\n",
    "    \"\"\"\n",
    "    response.append(get_completion(prompt))\n",
    "print(response)"
   ]
  },
  {
   "cell_type": "code",
   "execution_count": 26,
   "metadata": {},
   "outputs": [],
   "source": [
    "response = response[0]"
   ]
  },
  {
   "cell_type": "code",
   "execution_count": 27,
   "metadata": {},
   "outputs": [],
   "source": [
    "response = (response.replace(\"\\n\", \"\"))\n",
    "response = eval(response)"
   ]
  },
  {
   "cell_type": "code",
   "execution_count": 28,
   "metadata": {},
   "outputs": [
    {
     "data": {
      "text/plain": [
       "'positive'"
      ]
     },
     "execution_count": 28,
     "metadata": {},
     "output_type": "execute_result"
    }
   ],
   "source": [
    "response[0][\"customer mood\"]"
   ]
  },
  {
   "cell_type": "code",
   "execution_count": 29,
   "metadata": {},
   "outputs": [],
   "source": [
    "customer_mood = []\n",
    "design = []\n",
    "review_len = len(response)"
   ]
  },
  {
   "cell_type": "code",
   "execution_count": 30,
   "metadata": {},
   "outputs": [],
   "source": [
    "for i in range(review_len):\n",
    "    customer_mood.append(response[i][\"customer mood\"])\n",
    "    design.append(response[i][\"design\"])"
   ]
  },
  {
   "cell_type": "code",
   "execution_count": 31,
   "metadata": {},
   "outputs": [
    {
     "data": {
      "text/plain": [
       "['minor seal and scratch issues',\n",
       " 'slippery bottom pad',\n",
       " 'unknown',\n",
       " 'seal issue',\n",
       " 'slippery bottom pad',\n",
       " 'weak handle',\n",
       " 'scratch issues',\n",
       " 'unknown',\n",
       " 'seal issue',\n",
       " 'weak handle',\n",
       " 'scratch issues']"
      ]
     },
     "execution_count": 31,
     "metadata": {},
     "output_type": "execute_result"
    }
   ],
   "source": [
    "design"
   ]
  },
  {
   "cell_type": "code",
   "execution_count": 32,
   "metadata": {},
   "outputs": [
    {
     "name": "stdout",
     "output_type": "stream",
     "text": [
      "Areas for Improvement:\n",
      "\n",
      "1. Seal Issues: Multiple customers have reported minor seal issues with the product. This needs to be addressed to ensure the product is leak-proof and reliable.\n",
      "\n",
      "2. Slippery Bottom Pad: The bottom pad of the product is reported to be slippery, which can cause inconvenience and safety concerns. The design needs to be improved to provide better grip and stability.\n",
      "\n",
      "3. Weak Handle: The handle of the product is reported to be weak, which can cause discomfort and inconvenience while carrying. The handle needs to be strengthened to ensure durability and ease of use.\n",
      "\n",
      "4. Scratch Issues: Some customers have reported scratch issues with the product. This can affect the appearance and longevity of the product. The material and design need to be improved to prevent scratches.\n",
      "\n",
      "5. Unknown Issues: Some customers have reported unknown issues with the product. These need to be investigated and addressed to ensure customer satisfaction and product quality.\n"
     ]
    }
   ],
   "source": [
    "prompt = f\"\"\"\n",
    "    You are a product design supervisor.\\\n",
    "    Please carefully read through the customer feedback provided for the product.\\\n",
    "    Create a document outlining the areas for improvement in this product.\\\n",
    "    Keep the document content concise, focusing on the flawed aspects of the product.\\\n",
    "\n",
    "\n",
    "review text :'''{design}'''\n",
    "\"\"\"\n",
    "response = get_completion(prompt)\n",
    "print(response)"
   ]
  },
  {
   "cell_type": "code",
   "execution_count": null,
   "metadata": {},
   "outputs": [],
   "source": []
  }
 ],
 "metadata": {
  "kernelspec": {
   "display_name": "openai",
   "language": "python",
   "name": "python3"
  },
  "language_info": {
   "codemirror_mode": {
    "name": "ipython",
    "version": 3
   },
   "file_extension": ".py",
   "mimetype": "text/x-python",
   "name": "python",
   "nbconvert_exporter": "python",
   "pygments_lexer": "ipython3",
   "version": "3.9.16"
  },
  "orig_nbformat": 4
 },
 "nbformat": 4,
 "nbformat_minor": 2
}
