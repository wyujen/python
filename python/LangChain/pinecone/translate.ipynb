{
 "cells": [
  {
   "cell_type": "code",
   "execution_count": 21,
   "metadata": {},
   "outputs": [],
   "source": [
    "import os\n",
    "import tiktoken\n",
    "import openai\n",
    "\n",
    "openai_api_key = os.getenv(\"OPENAI_API_KEY\")"
   ]
  },
  {
   "cell_type": "code",
   "execution_count": 22,
   "metadata": {},
   "outputs": [],
   "source": [
    "from langchain.document_loaders import UnstructuredEPubLoader\n",
    "from langchain.text_splitter import RecursiveCharacterTextSplitter\n",
    "\n",
    "from langchain.chat_models import ChatOpenAI\n",
    "from langchain.schema import HumanMessage, SystemMessage, AIMessage"
   ]
  },
  {
   "cell_type": "code",
   "execution_count": 23,
   "metadata": {},
   "outputs": [],
   "source": [
    "tokenizer = tiktoken.get_encoding('p50k_base')\n",
    "\n",
    "def tiktoken_len(text):\n",
    "    tokens = tokenizer.encode(\n",
    "        text,\n",
    "        disallowed_special=()\n",
    "    )\n",
    "    return len(tokens)"
   ]
  },
  {
   "cell_type": "code",
   "execution_count": 24,
   "metadata": {},
   "outputs": [],
   "source": [
    "\n",
    "text_splitter = RecursiveCharacterTextSplitter(\n",
    "    chunk_size=1000,\n",
    "    chunk_overlap=20,\n",
    "    length_function=tiktoken_len,\n",
    "    separators=[\"\\n\\n\", \"\\n\", \" \", \"\"]\n",
    ")"
   ]
  },
  {
   "cell_type": "code",
   "execution_count": 25,
   "metadata": {},
   "outputs": [],
   "source": [
    "loader = UnstructuredEPubLoader(\"./Epub/arthur-conan-doyle_the-casebook-of-sherlock-holmes.epub\")\n",
    "data = loader.load()\n",
    "docs = text_splitter.split_documents(data)\n"
   ]
  },
  {
   "cell_type": "code",
   "execution_count": 27,
   "metadata": {},
   "outputs": [
    {
     "data": {
      "text/plain": [
       "138"
      ]
     },
     "execution_count": 27,
     "metadata": {},
     "output_type": "execute_result"
    }
   ],
   "source": [
    "len(docs)"
   ]
  },
  {
   "cell_type": "code",
   "execution_count": 26,
   "metadata": {},
   "outputs": [],
   "source": [
    "def translate(text):\n",
    "    text = text.replace('\\n',' ')\n",
    "    text = text.replace('\\r',' ')\n",
    "    primer = f\"\"\"You are an excellent AI translation bot \n",
    "    that can translate the input HumanMessage into Traditional Chinese.\n",
    "    \"\"\"\n",
    "\n",
    "    res = openai.ChatCompletion.create(\n",
    "        model=\"gpt-3.5-turbo\",\n",
    "        messages=[\n",
    "            {\"role\": \"system\", \"content\": primer},\n",
    "            {\"role\": \"user\", \"content\": text}\n",
    "        ]\n",
    "    )\n",
    "\n",
    "    return res\n"
   ]
  },
  {
   "cell_type": "code",
   "execution_count": 29,
   "metadata": {},
   "outputs": [
    {
     "name": "stderr",
     "output_type": "stream",
     "text": [
      " 25%|██▌       | 35/138 [50:40<2:20:14, 81.69s/it]"
     ]
    }
   ],
   "source": [
    "from tqdm.auto import tqdm\n",
    "\n",
    "ans_docs = []\n",
    "\n",
    "for i in tqdm(range(0,len(docs))):\n",
    "\n",
    "    text_d = docs[i].page_content\n",
    "    text_a = translate(text_d)\n",
    "\n",
    "    ans_docs.append(text_a)"
   ]
  },
  {
   "cell_type": "code",
   "execution_count": null,
   "metadata": {},
   "outputs": [],
   "source": [
    "\n",
    "\n",
    "\n",
    "\n",
    "\n",
    "\n",
    "\n",
    "\n",
    "\n",
    "\n",
    "\n",
    "\n",
    "\n",
    "\n",
    "\n",
    "\n",
    "\n",
    "\n",
    "\n",
    "\n",
    "\n",
    "\n",
    "\n",
    "\n",
    "\n",
    "\n"
   ]
  },
  {
   "cell_type": "code",
   "execution_count": 17,
   "metadata": {},
   "outputs": [
    {
     "data": {
      "text/markdown": [
       "福爾摩斯和我對土耳其浴場都有著弱點。在乾燥室的愉悅倦怠中，我發現他比其他任何地方都更不拘禮節和更加人性化。在北伯兰登大道的樓上，有一個孤立的角落，那裡有兩張沙發並排放置，就是在這裡我們躺在一起，那是1902年9月3日，我的故事開始的那天。我問他有沒有什麼事情要發生，他伸出了他那條又細又長、神經質的胳膊，從掛在他旁邊的外套內口袋裡取出了一封信封，作為答覆。 \"這可能是一個固執、自以為是的傻瓜; 這可能關乎生死存亡，\"他說，當他把那條紙條遞給我時，\"我只知道這則消息告訴了我這些。\"這是來自卡爾頓俱樂部的，日期是前一晚的。這是我讀到的: 詹姆斯·達默里爵士向夏洛克·福爾摩斯先生致意，並將在明天下午4:30拜訪他。達默里爵士表示，他希望諮詢福爾摩斯先生的問題非常微妙，也非常重要。他因此希望福爾摩斯先生盡一切努力接受此次面談，並通過電話確認到卡爾頓俱樂部。\" \"我不需要說我已經確認了，沃森，\"福爾摩斯在我把那張紙還給他後說。\"你對這個達默里先生了解多少？\" \"只知道這個名字在社交界是家喻戶曉的。\" \"嗯，我可以告訴你更多。他在安排需要保密的微妙事宜上有相當的聲譽。也許你還記得他與喬治·路易斯爵士就漢默福德的遺囑案進行的談判。他是一位富有世故智慧的人，具有天生的外交才能，因此我有必要希望這不是一條走錯路的線索，而是他需要我們的幫助。\" \"我們？\" \"如果你不介意，沃森。\" \"我會榮幸的。\" \"那麼你有時間 -- 下午4:30。在那之前，我們可以把這件事放在一邊。\" 那時我住在自己的房間裡，位於女王安妮街，但我在約定的時間之前就到了貝克街。剛好到半小時，上校詹姆斯·達默里就被宣佈進來了。對於很多人來說，並不需要詳細地描述他，那個大個子，老實率直的人格，那個寬廣的、潔淨的臉孔，尤其是那個愉悅的、圓滑的聲音，是值得人們銘記的。坦率地從他的灰色愛爾蘭眼睛中閃耀，而良好的情緒在他的易變的，微笑的嘴唇周圍游動。他亮晶晶的高顶帽，他的黑色剛性外套，事實上，從黑色緞子領巾上的珍珠針到鮮紫色的鞋套上的薰衣草色斑紋，每個細節都表明他在服裝上的細緻關注，這是他出名的。這位高高在上的大貴族霸佔了這個小房間。 \"當然，我準備找到沃森，\"他說著微笑地鞠躬。\"在這樣的情況下，他的合作可能非常必要，因為這一次，夏洛克，我們正在處理一個對暴力很熟悉的人，他真的會不拘手段。我可以說，這個人是整個歐洲最危險的人之一。\" \"我遇到過幾個對手，都曾被稱為這個令人驕傲的術語，\"福爾摩斯笑了笑說。\"你不抽煙？那你會原諒我點燃我的煙斗。如果你的人比前教授莫里亞蒂或者活著的塞巴斯汀·莫蘭上校還要危險，那他確實值得一見。我可以問問他的名字嗎？\" \"你曾聽說過格魯納男爵嗎？\" \"你指的是那個奧地利殺手嗎？\""
      ],
      "text/plain": [
       "<IPython.core.display.Markdown object>"
      ]
     },
     "metadata": {},
     "output_type": "display_data"
    }
   ],
   "source": [
    "display(Markdown(ans_docs[1]['choices'][0]['message']['content']))"
   ]
  },
  {
   "cell_type": "code",
   "execution_count": 15,
   "metadata": {},
   "outputs": [
    {
     "data": {
      "text/plain": [
       "'Imprint  This ebook is the product of many hours of hard work by volunteers  for Standard Ebooks, and builds  on the hard work of other literature lovers made possible by the public  domain.  This particular ebook is based on a transcription from Project Gutenberg  Australia and on digital scans from the Internet  Archive.  The source text and artwork in this ebook are believed to be in the  United States public domain; that is, they are believed to be free of  copyright restrictions in the United States. They may still be  copyrighted in other countries, so users located outside of the United  States must check their local laws before using this ebook. The creators  of, and contributors to, this ebook dedicate their contributions to the  worldwide public domain via the terms in the CC0 1.0  Universal Public Domain Dedication. For full license information,  see the Uncopyright at the end of this  ebook.  Standard Ebooks is a volunteer-driven project that produces ebook  editions of public domain literature using modern typography,  technology, and editorial standards, and distributes them free of cost.  You can download this and other ebooks carefully produced for true book  lovers at standardebooks.org.  Preface  I fear that Mr.\\xa0Sherlock Holmes may become like one of  those popular tenors who, having outlived their time, are still tempted  to make repeated farewell bows to their indulgent audiences. This must  cease and he must go the way of all flesh, material or imaginary. One  likes to think that there is some fantastic limbo for the children of  imagination, some strange, impossible place where the beaux of Fielding  may still make love to the belles of Richardson, where Scott’s heroes  still may strut, Dickens’s delightful Cockneys still raise a laugh, and  Thackeray’s worldlings continue to carry on their reprehensible careers.  Perhaps in some humble corner of such a Valhalla, Sherlock and his  Watson may for a time find a place, while some more astute sleuth with  some even less astute comrade may fill the stage which they have  vacated.  I had fully determined at the conclusion of The Memoirs to  bring Holmes to an end, as I felt that my literary energies should not  be directed too much into one channel. That pale, clear-cut face and  loose-limbed figure were taking up an undue share of my imagination. I  did the deed, but fortunately no coroner had pronounced upon the  remains, and so, after a long interval, it was not difficult for me to  respond to the flattering demand and to explain my rash act away. I have  never regretted it, for I have not in actual practice found that these  lighter sketches have prevented me from exploring and finding my  limitations in such varied branches of literature as history, poetry,  historical novels, psychic research, and the drama. Had Holmes never  existed I could not have done more, though he may perhaps have stood a  little in the way of the recognition of my more serious literary  work.  And so, reader, farewell to Sherlock Holmes! I thank you for your  past constancy, and can but hope that some return has been made in the  shape of that distraction from the worries of life and stimulating  change of thought which can only be found in the fairy kingdom of  romance.  Arthur Conan Doyle.  The Adventure of the Illustrious Client  “It can’t hurt now,” was Mr.\\xa0Sherlock Holmes’s comment  when, for the tenth time in as many years, I asked his leave to reveal  the following narrative. So it was that at last I obtained permission to  put on record what was, in some ways, the supreme moment of my friend’s  career.'"
      ]
     },
     "execution_count": 15,
     "metadata": {},
     "output_type": "execute_result"
    }
   ],
   "source": []
  },
  {
   "cell_type": "code",
   "execution_count": 16,
   "metadata": {},
   "outputs": [],
   "source": []
  },
  {
   "cell_type": "code",
   "execution_count": 22,
   "metadata": {},
   "outputs": [],
   "source": []
  },
  {
   "cell_type": "code",
   "execution_count": 21,
   "metadata": {},
   "outputs": [
    {
     "data": {
      "text/markdown": [
       "本電子書是由標準電子書（Standard Ebooks）的志願者們花費數小時所完成的產物，並在公有領域的底下，藉由其他文學愛好者所付出的努力而建立。這本特別的電子書是基於 Project Gutenberg Australia 的轉錄和互聯網文獻庫的數字化掃描所完成。本電子書中的源文本和藝術作品都被認為在美國公有領域內，也就是認為在美國沒有版權限制的作品，但在其他國家中仍然有可能被版權保護，所以位於美國以外的使用者，必須在使用本電子書之前，檢查其當地相關法律。本電子書的創作者和貢獻者，透過 CC0 1.0 Universal 全球公共領域貢獻的規定，將他們的貢獻獻給全世界的公共領域。更多的許可證資訊，請參閱本電子書末的「未被版權保護聲明」（Uncopyright）。標準電子書是一個志願者驅動的計劃，使用現代排版技術和編輯標準，生產免費的公有領域文學電子書，以供真正的書迷們熱愛閱讀。您可以在 standardebooks.org 下載這本和其他精心製作而成的電子書。\n",
       "\n",
       "前言\n",
       "\n",
       "我害怕福爾摩斯先生會像那些已經一去不復返的流行歌唱家一樣，還會一再地對他寬容的觀眾作告別演出。這必須停止，他必須走向任何形式的肉體或虛構人物的結束。人們喜歡想，想像的孩子們有某種奇異的、不可能存在的幽靈世界，菲爾丁的表示情感的英俊男子可以繼續和理察森的美女們做愛，斯科特的英雄可以繼續炫耀，狄更斯有意思的倫敦佬依然可以引人發笑，而薩克雷的世俗人物仍然可以繼續從事其令人厭惡的職業。也許在這樣一個瓦爾哈拉的某個貧瘠角落裡，夏洛克和他的華生可以暫時找到自己的位置，而某些更為聰明的偵探和某些更不那麼聰明的同伴則可以填補他們空出的角色。\n",
       "\n",
       "在《回憶錄》的結尾，我已經決定要結束夏洛克·福爾摩斯的故事，因為我感到我的文學創作能量不應該集中在一個方向上。那個蒼白、清晰的臉和骨瘦如柴的身影，佔據著我想像力的過多份量。我做了這個決定，但幸運的是，沒有驗屍官宣佈過任何死因，所以在很長的一段時間後，對於催促我重新寫作的讚揚，我可以輕鬆地作出回應，解釋我魯莽的行為。我從未後悔過這樁事情，因為在實際寫作中，我沒有發現這些較輕鬆的筆記，會阻止我去探索和發現我的極限，在歷史、詩歌、歷史小說、心靈研究和戲劇等各種文學领域中。如果沒有夏洛克·福爾摩斯的存在，我可能不會做得更好。但是，他可能會有一點擋著我更嚴肅的文學作品得到認可。因此，讀者，向夏洛克·福爾摩斯說再見！感謝您的過去忠誠，我懷疑那裡面是否有那種從生活煩惱中得到分散和激發思維方式的回饋，那只有在浪漫的童話王國中才能找到。阿瑟·柯南道爾。《高貴的委託》的冒險\n",
       "“現在這樣做，不會有傷害。”當我在十年中第十次請求他的允許時，這是福爾摩斯先生的評論。這就是為什麼最終我獲得了寫下以下故事的許可，這在某些方面是我朋友職業生涯的最高峰，這份故事被記錄下來。"
      ],
      "text/plain": [
       "<IPython.core.display.Markdown object>"
      ]
     },
     "metadata": {},
     "output_type": "display_data"
    }
   ],
   "source": [
    "from IPython.display import Markdown\n",
    "display(Markdown(res['choices'][0]['message']['content']))"
   ]
  },
  {
   "cell_type": "code",
   "execution_count": 35,
   "metadata": {},
   "outputs": [],
   "source": [
    "a = []\n",
    "a.append(res['choices'][0]['message']['content'])"
   ]
  },
  {
   "cell_type": "code",
   "execution_count": 36,
   "metadata": {},
   "outputs": [
    {
     "data": {
      "text/plain": [
       "'本電子書是由標準電子書（Standard Ebooks）的志願者們花費數小時所完成的產物，並在公有領域的底下，藉由其他文學愛好者所付出的努力而建立。這本特別的電子書是基於 Project Gutenberg Australia 的轉錄和互聯網文獻庫的數字化掃描所完成。本電子書中的源文本和藝術作品都被認為在美國公有領域內，也就是認為在美國沒有版權限制的作品，但在其他國家中仍然有可能被版權保護，所以位於美國以外的使用者，必須在使用本電子書之前，檢查其當地相關法律。本電子書的創作者和貢獻者，透過 CC0 1.0 Universal 全球公共領域貢獻的規定，將他們的貢獻獻給全世界的公共領域。更多的許可證資訊，請參閱本電子書末的「未被版權保護聲明」（Uncopyright）。標準電子書是一個志願者驅動的計劃，使用現代排版技術和編輯標準，生產免費的公有領域文學電子書，以供真正的書迷們熱愛閱讀。您可以在 standardebooks.org 下載這本和其他精心製作而成的電子書。\\n\\n前言\\n\\n我害怕福爾摩斯先生會像那些已經一去不復返的流行歌唱家一樣，還會一再地對他寬容的觀眾作告別演出。這必須停止，他必須走向任何形式的肉體或虛構人物的結束。人們喜歡想，想像的孩子們有某種奇異的、不可能存在的幽靈世界，菲爾丁的表示情感的英俊男子可以繼續和理察森的美女們做愛，斯科特的英雄可以繼續炫耀，狄更斯有意思的倫敦佬依然可以引人發笑，而薩克雷的世俗人物仍然可以繼續從事其令人厭惡的職業。也許在這樣一個瓦爾哈拉的某個貧瘠角落裡，夏洛克和他的華生可以暫時找到自己的位置，而某些更為聰明的偵探和某些更不那麼聰明的同伴則可以填補他們空出的角色。\\n\\n在《回憶錄》的結尾，我已經決定要結束夏洛克·福爾摩斯的故事，因為我感到我的文學創作能量不應該集中在一個方向上。那個蒼白、清晰的臉和骨瘦如柴的身影，佔據著我想像力的過多份量。我做了這個決定，但幸運的是，沒有驗屍官宣佈過任何死因，所以在很長的一段時間後，對於催促我重新寫作的讚揚，我可以輕鬆地作出回應，解釋我魯莽的行為。我從未後悔過這樁事情，因為在實際寫作中，我沒有發現這些較輕鬆的筆記，會阻止我去探索和發現我的極限，在歷史、詩歌、歷史小說、心靈研究和戲劇等各種文學领域中。如果沒有夏洛克·福爾摩斯的存在，我可能不會做得更好。但是，他可能會有一點擋著我更嚴肅的文學作品得到認可。因此，讀者，向夏洛克·福爾摩斯說再見！感謝您的過去忠誠，我懷疑那裡面是否有那種從生活煩惱中得到分散和激發思維方式的回饋，那只有在浪漫的童話王國中才能找到。阿瑟·柯南道爾。《高貴的委託》的冒險\\n“現在這樣做，不會有傷害。”當我在十年中第十次請求他的允許時，這是福爾摩斯先生的評論。這就是為什麼最終我獲得了寫下以下故事的許可，這在某些方面是我朋友職業生涯的最高峰，這份故事被記錄下來。'"
      ]
     },
     "execution_count": 36,
     "metadata": {},
     "output_type": "execute_result"
    }
   ],
   "source": [
    "a[0]"
   ]
  },
  {
   "cell_type": "code",
   "execution_count": null,
   "metadata": {},
   "outputs": [],
   "source": []
  }
 ],
 "metadata": {
  "kernelspec": {
   "display_name": "openai",
   "language": "python",
   "name": "python3"
  },
  "language_info": {
   "codemirror_mode": {
    "name": "ipython",
    "version": 3
   },
   "file_extension": ".py",
   "mimetype": "text/x-python",
   "name": "python",
   "nbconvert_exporter": "python",
   "pygments_lexer": "ipython3",
   "version": "3.9.13"
  },
  "orig_nbformat": 4
 },
 "nbformat": 4,
 "nbformat_minor": 2
}
