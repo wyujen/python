{
 "cells": [
  {
   "cell_type": "code",
   "execution_count": 3,
   "metadata": {},
   "outputs": [],
   "source": [
    "from langchain import OpenAI\n",
    "from langchain.agents import initialize_agent, Tool\n",
    "from langchain.chains.conversation.memory import ConversationBufferMemory\n",
    "import streamlit as st "
   ]
  },
  {
   "cell_type": "code",
   "execution_count": 5,
   "metadata": {},
   "outputs": [],
   "source": [
    "def fib(n):\n",
    "    if n <= 1:\n",
    "        return n \n",
    "    else:\n",
    "        return (fib(n-1) + fib(n-2))"
   ]
  },
  {
   "cell_type": "code",
   "execution_count": 6,
   "metadata": {},
   "outputs": [],
   "source": [
    "def sort_string(string):\n",
    "    return ''.join(sorted(string))\n",
    "\n",
    "def encypt(word):\n",
    "    encrypted_word = \"\"\n",
    "    for letter in word:\n",
    "        encrypted_word += chr(ord(letter)+1)\n",
    "    return encrypted_word\n"
   ]
  },
  {
   "cell_type": "code",
   "execution_count": 7,
   "metadata": {},
   "outputs": [],
   "source": [
    "def decrypt(word):\n",
    "    decrpted_word = \"\"\n",
    "    for letter in word:\n",
    "        decrypted_word += chr(ord(letter)-1)\n",
    "    return(decrypted_word)\n"
   ]
  },
  {
   "cell_type": "code",
   "execution_count": 11,
   "metadata": {},
   "outputs": [],
   "source": [
    "tools =  [\n",
    "Tool(\n",
    "    name = \"Fibonacci\",\n",
    "    func= lambda n: str(fib(int(n))),\n",
    "    description = \"use when you want to calculate the nth fibonacci number\",\n",
    "    ),\n",
    "Tool(\n",
    "    name = \"Sort String\",\n",
    "    func= lambda stuing: sort_string(string),\n",
    "    description = \"use when you want to sort a string alphabetically\",\n",
    "        ),\n",
    "Tool(\n",
    "    name = \"Encrypt\",\n",
    "    func = lambda word :encrypt(word),\n",
    "    description = \"use when you want to encrypt a word\",\n",
    "    ),\n",
    "Tool(\n",
    "    name = \"Decrypt\",\n",
    "    func = lambda word :decrypt(word),\n",
    "    description = \"use when you eant to decrypt a word\",\n",
    "    )\n",
    "]"
   ]
  },
  {
   "cell_type": "code",
   "execution_count": 12,
   "metadata": {},
   "outputs": [
    {
     "name": "stderr",
     "output_type": "stream",
     "text": [
      "2023-05-18 14:17:11.353 \n",
      "  \u001b[33m\u001b[1mWarning:\u001b[0m to view this Streamlit app on a browser, run it with the following\n",
      "  command:\n",
      "\n",
      "    streamlit run c:\\Users\\w\\anaconda3\\envs\\openai\\lib\\site-packages\\ipykernel_launcher.py [ARGUMENTS]\n",
      "2023-05-18 14:17:11.363 Session state does not function when running a script without `streamlit run`\n"
     ]
    }
   ],
   "source": [
    "memory = ConversationBufferMemory(memory_key=\"chat_history\")\n",
    "llm = OpenAI(temperature=0, verbose = True)\n",
    "agent_chain = initialize_agent(tools, llm , agent= \"conversational-react-description\",memory=memory, verbose=True)\n",
    "\n",
    "st.header(\":blue [Langchain chatbot with agent/tools and memory] :sunglasses:\")\n",
    "user_input = st.text_input(\"You: \")\n",
    "if \"memory\" not in st.session_state:\n",
    "    st.session_state[\"memory\"] = \"\"\n",
    "\n",
    "if st.button(\"Submit\"):\n",
    "    st.markdown(agent_chain.run(input=user_input))\n",
    "\n",
    "    st.session_state[\"memory\"] += memory.buffer\n",
    "    print(st.session_state[\"memory\"])\n"
   ]
  },
  {
   "cell_type": "code",
   "execution_count": null,
   "metadata": {},
   "outputs": [],
   "source": []
  }
 ],
 "metadata": {
  "kernelspec": {
   "display_name": "openai",
   "language": "python",
   "name": "python3"
  },
  "language_info": {
   "codemirror_mode": {
    "name": "ipython",
    "version": 3
   },
   "file_extension": ".py",
   "mimetype": "text/x-python",
   "name": "python",
   "nbconvert_exporter": "python",
   "pygments_lexer": "ipython3",
   "version": "3.9.16"
  },
  "orig_nbformat": 4
 },
 "nbformat": 4,
 "nbformat_minor": 2
}
