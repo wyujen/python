{
 "cells": [
  {
   "cell_type": "code",
   "execution_count": 5,
   "metadata": {},
   "outputs": [],
   "source": [
    "class world :\n",
    "    def __init__(self):\n",
    "\n",
    "        self.attack_cofficient = 0.5\n",
    "        self.print_title_len = 30\n",
    "        \n",
    "\n",
    "    def print_title(self,title = \" \"):\n",
    "\n",
    "        \n",
    "        title_len = len(str(title))\n",
    "        if title_len == 1:\n",
    "            print(\"=\"*self.print_title_len)\n",
    "            print(\"\\n\")\n",
    "        elif title_len %2 == 1:\n",
    "            print(title.center(self.print_title_len,\"=\"))\n",
    "        elif title_len %2 == 0 :\n",
    "            print(title.center(self.print_title_len,\"=\"))\n",
    "        else:\n",
    "            print(title_len)\n",
    "        \n",
    "    def print_parameter(self,role):\n",
    "        \n",
    "        sys_name_start = \" \"+format(role.name) + \" Quality Table \"\n",
    "        self.print_title(sys_name_start)\n",
    "        print(\"姓名：{}\".format(role.name))\n",
    "        print(\"種族：{}\".format(role.race))\n",
    "        print(\"生命值：{}\".format(role.hp_value))\n",
    "        print(\"攻擊力：{}\".format(role.attack_value))\n",
    "        print(\"防禦力：{}\".format(role.defense_value))\n",
    "        self.print_title()\n",
    "\n",
    "    def new_role (self,race,name,hp_value,attack_value,defense_value) :\n",
    "        self.race = race\n",
    "        self.name = name\n",
    "        self.hp_value = hp_value\n",
    "        self.attack_value = attack_value\n",
    "        self.defense_value = defense_value\n",
    "\n",
    "        if self.race == \"human\":\n",
    "            new_role= human(self.name,self.hp_value,self.attack_value,self.defense_value)\n",
    "        elif self.race == \"elves\":\n",
    "            new_role= elves(self.name,self.hp_value,self.attack_value,self.defense_value)\n",
    "        elif self.race == \"orc\":\n",
    "            new_role=orc(self.name,self.hp_value,self.attack_value,self.defense_value)\n",
    "        else:\n",
    "            new_role=\"error\"\n",
    "            \n",
    "        sys_new = (\" \"+new_role.name +\" was boen \")\n",
    "        print(\"\\n\")\n",
    "        self.print_title(sys_new)\n",
    "        self.print_parameter(new_role)\n",
    "        \n",
    "        return new_role\n",
    "    \n",
    "    def attack(self,role_s,role_o):\n",
    "\n",
    "        s_attack_value = role_s.attack_value\n",
    "        o_defense_value = role_o.defense_value\n",
    "        hurt_value = (s_attack_value-o_defense_value)*self.attack_cofficient\n",
    "        sys_start = \" {} Attack \".format(role_s.name) + role_o.name + \" \"\n",
    "        self.print_title(sys_start)\n",
    "\n",
    "        if hurt_value >= 0:\n",
    "            role_o.hp_value = role_o.hp_value - hurt_value  \n",
    "            attack_result = \" 攻擊成功\\n\\n 對 {} \".format(role_o.name) + \"造成{}點傷害\\n\\n \".format(hurt_value) + role_o.name + \" 的生命值剩餘 {} 點\".format(role_o.hp_value)\n",
    "            \n",
    "        else : \n",
    "            attack_result = \" {} 完美防禦，未受到任何傷害\".format(role_o.name)\n",
    "        \n",
    "        print(attack_result)\n",
    "        self.print_title()\n",
    "        "
   ]
  },
  {
   "cell_type": "code",
   "execution_count": 2,
   "metadata": {},
   "outputs": [],
   "source": [
    "class biology :\n",
    "    def __init__(self,hp_value,attack_value,defense_value):\n",
    "        \n",
    "        self.hp_value = hp_value\n",
    "        self.attack_value = attack_value\n",
    "        self.defense_value = defense_value\n",
    "\n",
    "class intelligent_body (biology):\n",
    "    def __init__(self,name,hp_value,attack_value,defense_value):\n",
    "        self.name = name\n",
    "        super().__init__(hp_value,attack_value,defense_value)\n",
    "\n",
    "class human (intelligent_body):\n",
    "    def __init__(self,name,hp_value,attack_value,defense_value):\n",
    "        self.race = \"human\"\n",
    "        super().__init__(name,hp_value,attack_value,defense_value)\n",
    "\n",
    "class elves(intelligent_body):\n",
    "    def __init__(self,name,hp_value,attack_value,defense_value):\n",
    "        self.race = \"elves\"\n",
    "        super().__init__(name,hp_value,attack_value,defense_value)\n",
    "\n",
    "class orc(intelligent_body):\n",
    "        \n",
    "    def __init__(self,name,hp_value,attack_value,defense_value):\n",
    "        self.race = \"intelligent_body\"\n",
    "        super().__init__(name,hp_value,attack_value,defense_value)"
   ]
  },
  {
   "cell_type": "code",
   "execution_count": 9,
   "metadata": {},
   "outputs": [],
   "source": [
    "class orcc(intelligent_body):\n",
    "        \n",
    "    def __init__(self,name,hp_value,attack_value,defense_value):\n",
    "        pass\n",
    "    "
   ]
  },
  {
   "cell_type": "code",
   "execution_count": 10,
   "metadata": {},
   "outputs": [],
   "source": [
    "def main():\n",
    "    world()\n",
    "    a = god.new_role(\"human\",\"A\",100,100,50)\n",
    "    b = god.new_role(\"elves\",\"B\",100,100,50)\n",
    "    c = god.new_role(\"orc\",\"C\",100,100,1000)\n",
    "    god.attack(a,b)\n",
    "    god.attack(b,c)"
   ]
  },
  {
   "cell_type": "code",
   "execution_count": 11,
   "metadata": {},
   "outputs": [
    {
     "ename": "NameError",
     "evalue": "name 'god' is not defined",
     "output_type": "error",
     "traceback": [
      "\u001b[1;31m---------------------------------------------------------------------------\u001b[0m",
      "\u001b[1;31mNameError\u001b[0m                                 Traceback (most recent call last)",
      "Cell \u001b[1;32mIn[11], line 1\u001b[0m\n\u001b[1;32m----> 1\u001b[0m main()\n\u001b[0;32m      2\u001b[0m x \u001b[39m=\u001b[39m \u001b[39m3\u001b[39m\n",
      "Cell \u001b[1;32mIn[10], line 3\u001b[0m, in \u001b[0;36mmain\u001b[1;34m()\u001b[0m\n\u001b[0;32m      1\u001b[0m \u001b[39mdef\u001b[39;00m \u001b[39mmain\u001b[39m():\n\u001b[0;32m      2\u001b[0m     world()\n\u001b[1;32m----> 3\u001b[0m     a \u001b[39m=\u001b[39m god\u001b[39m.\u001b[39mnew_role(\u001b[39m\"\u001b[39m\u001b[39mhuman\u001b[39m\u001b[39m\"\u001b[39m,\u001b[39m\"\u001b[39m\u001b[39mA\u001b[39m\u001b[39m\"\u001b[39m,\u001b[39m100\u001b[39m,\u001b[39m100\u001b[39m,\u001b[39m50\u001b[39m)\n\u001b[0;32m      4\u001b[0m     b \u001b[39m=\u001b[39m god\u001b[39m.\u001b[39mnew_role(\u001b[39m\"\u001b[39m\u001b[39melves\u001b[39m\u001b[39m\"\u001b[39m,\u001b[39m\"\u001b[39m\u001b[39mB\u001b[39m\u001b[39m\"\u001b[39m,\u001b[39m100\u001b[39m,\u001b[39m100\u001b[39m,\u001b[39m50\u001b[39m)\n\u001b[0;32m      5\u001b[0m     c \u001b[39m=\u001b[39m god\u001b[39m.\u001b[39mnew_role(\u001b[39m\"\u001b[39m\u001b[39morc\u001b[39m\u001b[39m\"\u001b[39m,\u001b[39m\"\u001b[39m\u001b[39mC\u001b[39m\u001b[39m\"\u001b[39m,\u001b[39m100\u001b[39m,\u001b[39m100\u001b[39m,\u001b[39m1000\u001b[39m)\n",
      "\u001b[1;31mNameError\u001b[0m: name 'god' is not defined"
     ]
    }
   ],
   "source": [
    "main()\n",
    "x = 3"
   ]
  },
  {
   "cell_type": "code",
   "execution_count": null,
   "metadata": {},
   "outputs": [],
   "source": []
  }
 ],
 "metadata": {
  "kernelspec": {
   "display_name": "test",
   "language": "python",
   "name": "python3"
  },
  "language_info": {
   "codemirror_mode": {
    "name": "ipython",
    "version": 3
   },
   "file_extension": ".py",
   "mimetype": "text/x-python",
   "name": "python",
   "nbconvert_exporter": "python",
   "pygments_lexer": "ipython3",
   "version": "3.9.13"
  },
  "orig_nbformat": 4
 },
 "nbformat": 4,
 "nbformat_minor": 2
}
