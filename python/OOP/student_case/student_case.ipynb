{
 "cells": [
  {
   "cell_type": "code",
   "execution_count": 25,
   "metadata": {},
   "outputs": [],
   "source": [
    "class Course:\n",
    "    def __init__(self,name, teacher = None , student = None):\n",
    "        self.name = name\n",
    "\n",
    "        if teacher is None :\n",
    "            self.teacher = None\n",
    "        elif teacher is not None :\n",
    "            self.teacher = teacher\n",
    "        \n",
    "        if student is None :\n",
    "            self.student = []\n",
    "        elif student is not None :\n",
    "            self.student = []\n",
    "            self.student.append(student)\n",
    "\n",
    "    def set_teacher(self, teacher):\n",
    "        self.teacher = teacher\n",
    "        \n",
    "    def add_student(self, student):\n",
    "        if student not in self.student:\n",
    "            self.student.append(student)\n",
    "            \n",
    "            if self.teacher not in student.teacher:\n",
    "                student.add_teacher(self.teacher)\n",
    "\n",
    "    def remove_student(self, student):\n",
    "        if student in self.student:\n",
    "            self.student.remove(student)\n",
    "\n",
    "    def print_student(self):\n",
    "        print('='*20)\n",
    "        print(\"Course :\",self.name)\n",
    "\n",
    "        if not self.student:\n",
    "            print(\"No student\")\n",
    "        else:\n",
    "            print(\"Student :\")\n",
    "            for student in self.student:\n",
    "                print(\" -->\",student.name)\n",
    "\n",
    "    def print_teacher(self):\n",
    "        print('='*20)\n",
    "        print(\"Course :\",self.name)\n",
    "\n",
    "        if not self.teacher:\n",
    "            print(\"No teacher\")\n",
    "        else:\n",
    "            print(\"teacher :\",self.teacher.name)\n",
    "            \n",
    "            "
   ]
  },
  {
   "cell_type": "code",
   "execution_count": 26,
   "metadata": {},
   "outputs": [],
   "source": [
    "class Peoples :\n",
    "    def __init__(self,name):\n",
    "        self.name = name"
   ]
  },
  {
   "cell_type": "code",
   "execution_count": 27,
   "metadata": {},
   "outputs": [],
   "source": [
    "class Teachers(Peoples):\n",
    "    def __init__(self, name, teach_subject, course  = None, student = None):\n",
    "        super().__init__(name)\n",
    "        self.teach_subject = teach_subject\n",
    "\n",
    "        if student == None:\n",
    "            self.student = []\n",
    "        else:\n",
    "            self.student = []\n",
    "            self.student.append(student)\n",
    "        \n",
    "        if course == None:\n",
    "            self.course = []\n",
    "        else:\n",
    "            self.course = []\n",
    "            self.course.append(course)\n",
    "\n",
    "            course.set_teacher(self)\n",
    "            \n",
    "\n",
    "    def add_course(self, course):\n",
    "        if course not in self.course:\n",
    "            self.course.append(course)\n",
    "\n",
    "            course.set_teacher(self)\n",
    "    \n",
    "    def add_student(self,student):\n",
    "        if student not in self.student:\n",
    "            self.student.append(student)\n",
    "            \n",
    "                    \n",
    "    def remove_course(self, course):\n",
    "        if course in self.course:\n",
    "            self.course.remove(course)\n",
    "        print(\"No this course\")\n",
    "\n",
    "    def remove_students(self,student):\n",
    "        if student in self.student:\n",
    "            self.student.remove(student)\n",
    "        print(\"No this student\")\n",
    "\n",
    "\n",
    "    def print_course(self):\n",
    "        print('='*20)\n",
    "        print(\"Teacher :\",self.name )\n",
    "        if not self.course:\n",
    "            print(\"No course\")  \n",
    "        else:\n",
    "            for course in self.course:\n",
    "                print(\"Teaching:\",course.name)\n",
    "\n",
    "    \n",
    "    def print_student(self):\n",
    "        print('='*20)\n",
    "        print(\"Teacher :\",self.name)\n",
    "\n",
    "        if not self.student:\n",
    "            print(\"No student\")\n",
    "        else:\n",
    "            print(\"Student :\")\n",
    "            \n",
    "            for student in self.student:\n",
    "                print(\" -->\", student.name)"
   ]
  },
  {
   "cell_type": "code",
   "execution_count": 28,
   "metadata": {},
   "outputs": [],
   "source": [
    "class Students(Peoples):\n",
    "    def __init__(self, name, course = None, teacher = None):\n",
    "        super().__init__(name)\n",
    "\n",
    "        if teacher is None :\n",
    "            self.teacher = []\n",
    "        elif teacher is not None :\n",
    "            self.teacher = []\n",
    "            self.teacher.append(teacher)\n",
    "        \n",
    "        if course is None :\n",
    "            self.course = []\n",
    "        elif course is not None :\n",
    "            self.course = []\n",
    "            self.course.append(course)\n",
    "            if course.teacher not in self.teacher:\n",
    "                self.teacher.append(course.teacher)\n",
    "                course.teacher.student.append(self)\n",
    "            if self not in course.student:\n",
    "                course.student.append(self)\n",
    "            \n",
    "\n",
    "    def add_course(self, course):\n",
    "        if course not in self.course:\n",
    "            self.course.append(course)\n",
    "\n",
    "            if self not in course.student:\n",
    "                course.student.append(self)\n",
    "\n",
    "            if course.teacher not in self.teacher:\n",
    "                self.teacher.append(course.teacher)\n",
    "                course.teacher.student.append(self)\n",
    "            \n",
    "            \n",
    "\n",
    "    def add_teacher(self, teacher):\n",
    "        if teacher not in self.teacher:\n",
    "            self.teacher.append(teacher)\n",
    "\n",
    "    def remove_course(self, course):\n",
    "        if course in self.course:\n",
    "            self.course.remove(course)\n",
    "\n",
    "    def print_course(self):\n",
    "        print('='*20)\n",
    "        print('student :',self.name)\n",
    "        for course in self.course:\n",
    "            print(\"-->\",course.name)\n",
    "        \n",
    "    def print_teacher(self):\n",
    "        print('='*20)\n",
    "        print(\"Student :\",self.name)\n",
    "\n",
    "        if not self.teacher:\n",
    "            print(\"No teacher\")\n",
    "        else:\n",
    "            print(\"Teacher :\")\n",
    "            \n",
    "            for teacher in self.teacher:\n",
    "                print(\" -->\", teacher.name)"
   ]
  },
  {
   "cell_type": "code",
   "execution_count": 29,
   "metadata": {},
   "outputs": [],
   "source": [
    "course_1 = Course(\"English\")\n",
    "course_2 = Course(\"Math\")\n",
    "course_3 = Course(\"Chinese\")\n",
    "\n",
    "teach_1 = Teachers(\"Teach_a\", \"English\", course_1)\n",
    "teach_2 = Teachers(\"Teach_b\", \"Math\",course_2)\n",
    "teach_3 = Teachers(\"Teach_c\", \"Chinese\")\n",
    "\n",
    "stud_1 = Students(\"stud_i\",course_1)\n",
    "stud_2 = Students(\"stud_ii\",course_2)\n",
    "stud_3 = Students(\"stud_iii\")\n"
   ]
  },
  {
   "cell_type": "code",
   "execution_count": 30,
   "metadata": {},
   "outputs": [],
   "source": [
    "\n",
    "teach_3.add_course(course_3)\n",
    "\n",
    "stud_3.add_course(course_3)\n",
    "\n",
    "stud_1.add_course(course_2)\n",
    "stud_3.add_course(course_1)\n",
    "stud_2.add_course(course_3)\n"
   ]
  },
  {
   "cell_type": "code",
   "execution_count": 31,
   "metadata": {},
   "outputs": [
    {
     "name": "stdout",
     "output_type": "stream",
     "text": [
      "====================\n",
      "Course : English\n",
      "teacher : Teach_a\n",
      "====================\n",
      "Course : English\n",
      "Student :\n",
      " --> stud_i\n",
      " --> stud_iii\n",
      "====================\n",
      "Course : Math\n",
      "teacher : Teach_b\n",
      "====================\n",
      "Course : Math\n",
      "Student :\n",
      " --> stud_ii\n",
      " --> stud_i\n",
      "====================\n",
      "Course : Chinese\n",
      "teacher : Teach_c\n",
      "====================\n",
      "Course : Chinese\n",
      "Student :\n",
      " --> stud_iii\n",
      " --> stud_ii\n"
     ]
    }
   ],
   "source": [
    "\n",
    "course_1.print_teacher()\n",
    "course_1.print_student()\n",
    "\n",
    "course_2.print_teacher()\n",
    "course_2.print_student()\n",
    "\n",
    "course_3.print_teacher()\n",
    "course_3.print_student()"
   ]
  },
  {
   "cell_type": "code",
   "execution_count": 32,
   "metadata": {},
   "outputs": [
    {
     "name": "stdout",
     "output_type": "stream",
     "text": [
      "====================\n",
      "Teacher : Teach_a\n",
      "Teaching: English\n",
      "====================\n",
      "Teacher : Teach_b\n",
      "Teaching: Math\n",
      "====================\n",
      "Teacher : Teach_c\n",
      "Teaching: Chinese\n"
     ]
    }
   ],
   "source": [
    "teach_1.print_course()\n",
    "teach_2.print_course()\n",
    "teach_3.print_course()\n",
    "\n"
   ]
  },
  {
   "cell_type": "code",
   "execution_count": 33,
   "metadata": {},
   "outputs": [
    {
     "name": "stdout",
     "output_type": "stream",
     "text": [
      "====================\n",
      "student : stud_i\n",
      "--> English\n",
      "--> Math\n",
      "====================\n",
      "student : stud_ii\n",
      "--> Math\n",
      "--> Chinese\n",
      "====================\n",
      "student : stud_iii\n",
      "--> Chinese\n",
      "--> English\n"
     ]
    }
   ],
   "source": [
    "stud_1.print_course()\n",
    "stud_2.print_course()\n",
    "stud_3.print_course()"
   ]
  },
  {
   "cell_type": "code",
   "execution_count": 34,
   "metadata": {},
   "outputs": [
    {
     "name": "stdout",
     "output_type": "stream",
     "text": [
      "====================\n",
      "Teacher : Teach_a\n",
      "Student :\n",
      " --> stud_i\n",
      " --> stud_iii\n",
      "====================\n",
      "Teacher : Teach_b\n",
      "Student :\n",
      " --> stud_ii\n",
      " --> stud_i\n",
      "====================\n",
      "Teacher : Teach_c\n",
      "Student :\n",
      " --> stud_iii\n",
      " --> stud_ii\n"
     ]
    }
   ],
   "source": [
    "teach_1.print_student()\n",
    "teach_2.print_student()\n",
    "teach_3.print_student()"
   ]
  },
  {
   "cell_type": "code",
   "execution_count": 35,
   "metadata": {},
   "outputs": [
    {
     "name": "stdout",
     "output_type": "stream",
     "text": [
      "====================\n",
      "Student : stud_i\n",
      "Teacher :\n",
      " --> Teach_a\n",
      " --> Teach_b\n",
      "====================\n",
      "Student : stud_ii\n",
      "Teacher :\n",
      " --> Teach_b\n",
      " --> Teach_c\n",
      "====================\n",
      "Student : stud_iii\n",
      "Teacher :\n",
      " --> Teach_c\n",
      " --> Teach_a\n"
     ]
    }
   ],
   "source": [
    "stud_1.print_teacher()\n",
    "stud_2.print_teacher()\n",
    "stud_3.print_teacher()"
   ]
  },
  {
   "cell_type": "code",
   "execution_count": null,
   "metadata": {},
   "outputs": [],
   "source": []
  }
 ],
 "metadata": {
  "kernelspec": {
   "display_name": "test",
   "language": "python",
   "name": "python3"
  },
  "language_info": {
   "codemirror_mode": {
    "name": "ipython",
    "version": 3
   },
   "file_extension": ".py",
   "mimetype": "text/x-python",
   "name": "python",
   "nbconvert_exporter": "python",
   "pygments_lexer": "ipython3",
   "version": "3.9.13"
  },
  "orig_nbformat": 4
 },
 "nbformat": 4,
 "nbformat_minor": 2
}
