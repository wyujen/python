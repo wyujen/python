{
 "cells": [
  {
   "cell_type": "code",
   "execution_count": 7,
   "metadata": {},
   "outputs": [],
   "source": [
    "class Cram:\n",
    "    def __init__(self,id, name):\n",
    "        self.id = id\n",
    "        self.name = name\n",
    "        self.forced = []\n",
    "        self.unforced = []\n",
    "\n",
    "    def print_information(self):\n",
    "        print(\"ID : \",self.id)\n",
    "        print(\"Name :\",self.name)\n",
    "\n",
    "    def check_relation(self, path):# 0-forced 1-unforced\n",
    "        student= []\n",
    "        teacher = []\n",
    "        course = []\n",
    "        if path == 0 :\n",
    "            for self in self.forced:\n",
    "                if self.__class__.__name__ == \"Student\":\n",
    "                    student.append(self.name)\n",
    "                elif self.__class__.__name__ == \"Teacher\":\n",
    "                    teacher.append(self.name)\n",
    "                elif self.__class__.__name__ == \"Course\":\n",
    "                    course.append(self.name)\n",
    "        elif path == 1 :\n",
    "            for self in self.unforced:\n",
    "                if self.__class__.__name__ == \"Student\":\n",
    "                    student.append(self.name)\n",
    "                elif self.__class__.__name__ == \"Teacher\":\n",
    "                    teacher.append(self.name)\n",
    "                elif self.__class__.__name__ == \"Course\":\n",
    "                    course.append(self.name)\n",
    "        return student, teacher, course\n",
    "\n",
    "    def add_relation(self, object):# two_way\n",
    "        if self not in object.unfoced:\n",
    "            object.unfoced.append(self)\n",
    "        if object not in self.unfoced:\n",
    "            self.unforced.append(object)\n",
    "\n",
    "\n",
    "    def del_relation(self, path, object):# 1-one_way 2-two_way\n",
    "        \n",
    "        if path == 1:\n",
    "            \n",
    "            if object in self.unfoced:\n",
    "                self.unforced.remove(object)\n",
    "        \n",
    "        if path == 2:\n",
    "            if self in object.unfoced:\n",
    "                object.unforced.remove(self)\n",
    "            if object in self.unfoced:\n",
    "                self.unforced.remove(object)\n",
    "\n"
   ]
  },
  {
   "cell_type": "code",
   "execution_count": 8,
   "metadata": {},
   "outputs": [],
   "source": [
    "class Student(Cram):\n",
    "    def __init__(self,id, name):\n",
    "        \n",
    "        super().__init__(id, name)\n"
   ]
  },
  {
   "cell_type": "code",
   "execution_count": 9,
   "metadata": {},
   "outputs": [],
   "source": [
    "class Teacher(Cram):\n",
    "    def __init__(self, id, name):\n",
    "        super().__init__(id, name)\n"
   ]
  },
  {
   "cell_type": "code",
   "execution_count": 10,
   "metadata": {},
   "outputs": [],
   "source": [
    "class Course(Cram):\n",
    "    def __init__(self, id, name):\n",
    "        super().__init__(id, name)"
   ]
  },
  {
   "cell_type": "code",
   "execution_count": 11,
   "metadata": {},
   "outputs": [],
   "source": [
    "class Manager(Cram):\n",
    "    def __init__(self, name):\n",
    "        id = \"M-1\"\n",
    "        \n",
    "        super().__init__(id, name)\n",
    "\n",
    "        self.trecher_id_number = 1\n",
    "        self.student_id_number = 1\n",
    "        self.course_id_number = 1\n",
    "\n",
    "    def new_role(self, identify, name):\n",
    "\n",
    "        if identify == Student:\n",
    "            self.student_id = \"S-\"+str(self.student_id_number)\n",
    "            \n",
    "            self.student_id_number = self.student_id_number+1\n",
    "            return Student(self.student_id, name)\n",
    "\n",
    "        elif identify == Teacher:\n",
    "            self.teacher_id = \"T-\"+str(self.teacher_id_number)\n",
    "            self.teacher_id_number = self.teacher_id_number+1\n",
    "\n",
    "            return Teacher(self.teacher_id, name)\n",
    "\n",
    "        elif identify == Course:\n",
    "            self.course_id = \"C-\"+str(self.course_id_number)\n",
    "            self.course_id_number = self.course_id_number+1\n",
    "            return Student(self.course_id, name)\n",
    "        \n",
    "    def add_relation(self, role):\n",
    "        if self.__class__.__name__ == \"Course\" and role == \"Teacher\" :\n",
    "            for teacher in self.forced :\n",
    "                if teacher == self.__class__.__name__ == \"Teacher\" :\n",
    "\n",
    "                    \n",
    "\n",
    "                else:\n",
    "\n",
    "        "
   ]
  },
  {
   "cell_type": "code",
   "execution_count": 12,
   "metadata": {},
   "outputs": [],
   "source": [
    "man = Manager(\"men\")"
   ]
  },
  {
   "cell_type": "code",
   "execution_count": 13,
   "metadata": {},
   "outputs": [],
   "source": [
    "\n",
    "\n"
   ]
  },
  {
   "cell_type": "code",
   "execution_count": null,
   "metadata": {},
   "outputs": [],
   "source": []
  },
  {
   "cell_type": "code",
   "execution_count": 14,
   "metadata": {},
   "outputs": [
    {
     "ename": "AttributeError",
     "evalue": "'Student' object has no attribute 'print_classmater'",
     "output_type": "error",
     "traceback": [
      "\u001b[1;31m---------------------------------------------------------------------------\u001b[0m",
      "\u001b[1;31mAttributeError\u001b[0m                            Traceback (most recent call last)",
      "Cell \u001b[1;32mIn[14], line 1\u001b[0m\n\u001b[1;32m----> 1\u001b[0m a\u001b[39m.\u001b[39;49mprint_classmater()\n",
      "\u001b[1;31mAttributeError\u001b[0m: 'Student' object has no attribute 'print_classmater'"
     ]
    }
   ],
   "source": []
  },
  {
   "cell_type": "markdown",
   "metadata": {},
   "source": []
  },
  {
   "cell_type": "code",
   "execution_count": null,
   "metadata": {},
   "outputs": [],
   "source": []
  }
 ],
 "metadata": {
  "kernelspec": {
   "display_name": "test",
   "language": "python",
   "name": "python3"
  },
  "language_info": {
   "codemirror_mode": {
    "name": "ipython",
    "version": 3
   },
   "file_extension": ".py",
   "mimetype": "text/x-python",
   "name": "python",
   "nbconvert_exporter": "python",
   "pygments_lexer": "ipython3",
   "version": "3.9.13"
  },
  "orig_nbformat": 4
 },
 "nbformat": 4,
 "nbformat_minor": 2
}
