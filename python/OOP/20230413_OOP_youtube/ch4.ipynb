{
 "cells": [
  {
   "cell_type": "code",
   "execution_count": 46,
   "metadata": {},
   "outputs": [],
   "source": [
    "class Employee:\n",
    "    raise_amt = 1.04\n",
    "    def __init__(self, first, last, pay):\n",
    "        self.first = first\n",
    "        self.last = last\n",
    "        self.pay = int(pay)\n",
    "        self.email = first + '.' + last + '@gmail.com'\n",
    "\n",
    "    def fullname(self):\n",
    "        return '{} {}'.format(self.first, self.last)\n",
    "    \n",
    "    def apply_raise(self):\n",
    "        self.pay = int(self.pay * self.raise_amt)"
   ]
  },
  {
   "cell_type": "code",
   "execution_count": 52,
   "metadata": {},
   "outputs": [],
   "source": [
    "class Develomper(Employee):\n",
    "    raise_amt = 2\n",
    "    def __init__(self, first, last, pay, prog_lang):\n",
    "        super().__init__(first, last, pay)\n",
    "        self.prog_lang = prog_lang\n",
    "\n",
    "    "
   ]
  },
  {
   "cell_type": "code",
   "execution_count": 63,
   "metadata": {},
   "outputs": [],
   "source": [
    "class Manager(Employee):\n",
    "    def __init__(self,first,last,pay,employees = None):\n",
    "        super().__init__(first, last, pay)\n",
    "        if employees is None:\n",
    "            self.employees = []\n",
    "        else:\n",
    "            self.employees = employees\n",
    "    def add_emp(self,emp):\n",
    "        if emp not in self.employees:\n",
    "            self.employees.append(emp)\n",
    "    def remove_emp(self,emp):\n",
    "        if emp in self.employees:\n",
    "            self.employees.remove(emp)\n",
    "    def print_emps(self):\n",
    "        for emp in self.employees:\n",
    "            print('-->',emp.fullname())"
   ]
  },
  {
   "cell_type": "code",
   "execution_count": 65,
   "metadata": {},
   "outputs": [
    {
     "name": "stdout",
     "output_type": "stream",
     "text": [
      "Sue.smith@gmail.com\n",
      "--> Corey Schwarz\n"
     ]
    }
   ],
   "source": [
    "\n",
    "dev_1 = Develomper('Corey', 'Schwarz', '10000','python')\n",
    "dev_2 = Develomper('Test','Uesr', '100000','java')\n",
    "\n",
    "mgr_1 = Manager('Sue','smith',90000,[dev_1])\n",
    "print(mgr_1.email)\n",
    "mgr_1.print_emps()"
   ]
  },
  {
   "cell_type": "code",
   "execution_count": 70,
   "metadata": {},
   "outputs": [
    {
     "name": "stdout",
     "output_type": "stream",
     "text": [
      "Corey.Schwarz@gmail.com\n",
      "python\n"
     ]
    }
   ],
   "source": [
    "print(dev_1.email)\n",
    "print(dev_1.prog_lang)\n",
    "mgr_1.add_emp(dev_2)\n"
   ]
  },
  {
   "cell_type": "code",
   "execution_count": 66,
   "metadata": {},
   "outputs": [
    {
     "name": "stdout",
     "output_type": "stream",
     "text": [
      "10000\n",
      "20000\n"
     ]
    }
   ],
   "source": [
    "\n",
    "print(dev_1.pay)\n",
    "dev_1.apply_raise()\n",
    "print(dev_1.pay)\n"
   ]
  },
  {
   "cell_type": "code",
   "execution_count": 81,
   "metadata": {},
   "outputs": [
    {
     "name": "stdout",
     "output_type": "stream",
     "text": [
      "False\n",
      "True\n"
     ]
    }
   ],
   "source": [
    "print(issubclass(Manager,Develomper))\n",
    "print(isinstance(mgr_1,Employee))"
   ]
  },
  {
   "cell_type": "code",
   "execution_count": null,
   "metadata": {},
   "outputs": [],
   "source": []
  }
 ],
 "metadata": {
  "kernelspec": {
   "display_name": "test",
   "language": "python",
   "name": "python3"
  },
  "language_info": {
   "codemirror_mode": {
    "name": "ipython",
    "version": 3
   },
   "file_extension": ".py",
   "mimetype": "text/x-python",
   "name": "python",
   "nbconvert_exporter": "python",
   "pygments_lexer": "ipython3",
   "version": "3.9.13"
  },
  "orig_nbformat": 4
 },
 "nbformat": 4,
 "nbformat_minor": 2
}
