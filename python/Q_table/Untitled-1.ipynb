{
 "cells": [
  {
   "cell_type": "code",
   "execution_count": 5,
   "metadata": {},
   "outputs": [],
   "source": [
    "import numpy as np\n",
    "import random as rd"
   ]
  },
  {
   "cell_type": "code",
   "execution_count": 6,
   "metadata": {},
   "outputs": [],
   "source": [
    "base_columns = 11\n",
    "base_rows = 11\n",
    "def print_table(name,table,n_st = \" \" ):\n",
    "    n_st = str(n_st)\n",
    "    if n_st == \" \":\n",
    "        name =\" \"+name+\" \"\n",
    "    else:\n",
    "        name =\" NO. \"+n_st+\" Times \"+name+\" \"\n",
    "    print(name.center(60,\"=\"))\n",
    "    print(table)"
   ]
  },
  {
   "cell_type": "code",
   "execution_count": 7,
   "metadata": {},
   "outputs": [],
   "source": [
    "def init_table():\n",
    "    #base table create\n",
    "    base_table = np.full((base_rows, base_columns), -100)\n",
    "    base_table[0,5] = 100\n",
    "    for i in range(0, 11):\n",
    "        base_table[5, i] = -1\n",
    "        base_table[9, i] = -1\n",
    "    for i in range(1, 10):\n",
    "        base_table[1, i] = -1\n",
    "        base_table[7, i] = -1\n",
    "    for i in range(1, 8):\n",
    "        base_table[3, i] = -1    \n",
    "    base_table[2,1] = -1\n",
    "    base_table[2,7] = -1\n",
    "    base_table[2,9] = -1\n",
    "    base_table[3,9] = -1\n",
    "    base_table[4,3] = -1\n",
    "    base_table[4,7] = -1\n",
    "    base_table[6,5] = -1\n",
    "    base_table[8,3] = -1\n",
    "    base_table[8,7] = -1\n",
    "    #Q-values table create\n",
    "    q_table = np.full((base_rows, base_columns),0)\n",
    "    return base_table, q_table\n",
    "\n",
    "base_table, q_table = init_table()\n"
   ]
  },
  {
   "cell_type": "code",
   "execution_count": 10,
   "metadata": {},
   "outputs": [
    {
     "data": {
      "text/plain": [
       "(3, 3)"
      ]
     },
     "execution_count": 10,
     "metadata": {},
     "output_type": "execute_result"
    }
   ],
   "source": [
    "def random_start():\n",
    "    output = 0\n",
    "    while output == 0:\n",
    "        x = np.random.randint(0,11)\n",
    "        y = np.random.randint(0,11)\n",
    "        z = base_table[x,y]\n",
    "        if z == -1 :\n",
    "            return x,y\n",
    "            output = 1\n",
    "        else :\n",
    "            break\n",
    "\n",
    "def random_action():\n",
    "    action = rd.uniform(0,1)\n",
    "    print(action)\n",
    "random_start() "
   ]
  },
  {
   "cell_type": "code",
   "execution_count": null,
   "metadata": {},
   "outputs": [],
   "source": []
  }
 ],
 "metadata": {
  "kernelspec": {
   "display_name": "test",
   "language": "python",
   "name": "python3"
  },
  "language_info": {
   "codemirror_mode": {
    "name": "ipython",
    "version": 3
   },
   "file_extension": ".py",
   "mimetype": "text/x-python",
   "name": "python",
   "nbconvert_exporter": "python",
   "pygments_lexer": "ipython3",
   "version": "3.9.13"
  },
  "orig_nbformat": 4
 },
 "nbformat": 4,
 "nbformat_minor": 2
}
